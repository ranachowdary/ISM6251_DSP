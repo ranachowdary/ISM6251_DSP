{
 "cells": [
  {
   "cell_type": "markdown",
   "id": "3a0f02d5",
   "metadata": {},
   "source": [
    "# SHANMUKA RANA PRATHAP CHOWDARY PONNAGANTI U97674115"
   ]
  },
  {
   "cell_type": "markdown",
   "id": "6e11f14a",
   "metadata": {},
   "source": [
    "# Indian Oil Corporation Limited (IOC.NS)"
   ]
  },
  {
   "cell_type": "code",
   "execution_count": 1,
   "id": "e0028cdf",
   "metadata": {},
   "outputs": [],
   "source": [
    "import tensorflow as tf\n",
    "from tensorflow import keras\n",
    "from sklearn.metrics import mean_squared_error\n",
    "\n",
    "\n",
    "# Common imports\n",
    "import numpy as np\n",
    "import os\n",
    "import datetime as dt\n",
    "# to make this notebook's output stable across runs\n",
    "np.random.seed(42)\n",
    "import seaborn as sns\n",
    "# To plot pretty figures\n",
    "%matplotlib inline\n",
    "import matplotlib as mpl\n",
    "import matplotlib.pyplot as plt\n",
    "mpl.rc('axes', labelsize=14)\n",
    "mpl.rc('xtick', labelsize=12)\n",
    "mpl.rc('ytick', labelsize=12)\n",
    "import pandas as pd\n",
    "import yfinance as yf\n"
   ]
  },
  {
   "cell_type": "code",
   "execution_count": 2,
   "id": "89700c9e",
   "metadata": {},
   "outputs": [
    {
     "name": "stdout",
     "output_type": "stream",
     "text": [
      "[*********************100%***********************]  1 of 1 completed\n"
     ]
    }
   ],
   "source": [
    "ioc = yf.download(tickers='IOC.NS', period='100d', interval='1d')"
   ]
  },
  {
   "cell_type": "code",
   "execution_count": 4,
   "id": "9190c15f",
   "metadata": {},
   "outputs": [
    {
     "data": {
      "text/html": [
       "<div>\n",
       "<style scoped>\n",
       "    .dataframe tbody tr th:only-of-type {\n",
       "        vertical-align: middle;\n",
       "    }\n",
       "\n",
       "    .dataframe tbody tr th {\n",
       "        vertical-align: top;\n",
       "    }\n",
       "\n",
       "    .dataframe thead th {\n",
       "        text-align: right;\n",
       "    }\n",
       "</style>\n",
       "<table border=\"1\" class=\"dataframe\">\n",
       "  <thead>\n",
       "    <tr style=\"text-align: right;\">\n",
       "      <th></th>\n",
       "      <th>Open</th>\n",
       "      <th>High</th>\n",
       "      <th>Low</th>\n",
       "      <th>Close</th>\n",
       "      <th>Adj Close</th>\n",
       "      <th>Volume</th>\n",
       "    </tr>\n",
       "    <tr>\n",
       "      <th>Date</th>\n",
       "      <th></th>\n",
       "      <th></th>\n",
       "      <th></th>\n",
       "      <th></th>\n",
       "      <th></th>\n",
       "      <th></th>\n",
       "    </tr>\n",
       "  </thead>\n",
       "  <tbody>\n",
       "    <tr>\n",
       "      <th>2022-11-25</th>\n",
       "      <td>72.199997</td>\n",
       "      <td>73.949997</td>\n",
       "      <td>71.650002</td>\n",
       "      <td>73.349998</td>\n",
       "      <td>73.349998</td>\n",
       "      <td>22422462</td>\n",
       "    </tr>\n",
       "    <tr>\n",
       "      <th>2022-11-28</th>\n",
       "      <td>73.900002</td>\n",
       "      <td>76.449997</td>\n",
       "      <td>73.900002</td>\n",
       "      <td>76.199997</td>\n",
       "      <td>76.199997</td>\n",
       "      <td>40695313</td>\n",
       "    </tr>\n",
       "    <tr>\n",
       "      <th>2022-11-29</th>\n",
       "      <td>76.449997</td>\n",
       "      <td>76.699997</td>\n",
       "      <td>75.000000</td>\n",
       "      <td>75.300003</td>\n",
       "      <td>75.300003</td>\n",
       "      <td>17421133</td>\n",
       "    </tr>\n",
       "    <tr>\n",
       "      <th>2022-11-30</th>\n",
       "      <td>74.500000</td>\n",
       "      <td>77.000000</td>\n",
       "      <td>74.449997</td>\n",
       "      <td>76.650002</td>\n",
       "      <td>76.650002</td>\n",
       "      <td>29122442</td>\n",
       "    </tr>\n",
       "    <tr>\n",
       "      <th>2022-12-01</th>\n",
       "      <td>77.000000</td>\n",
       "      <td>77.150002</td>\n",
       "      <td>76.000000</td>\n",
       "      <td>76.199997</td>\n",
       "      <td>76.199997</td>\n",
       "      <td>15072561</td>\n",
       "    </tr>\n",
       "    <tr>\n",
       "      <th>...</th>\n",
       "      <td>...</td>\n",
       "      <td>...</td>\n",
       "      <td>...</td>\n",
       "      <td>...</td>\n",
       "      <td>...</td>\n",
       "      <td>...</td>\n",
       "    </tr>\n",
       "    <tr>\n",
       "      <th>2023-04-17</th>\n",
       "      <td>77.199997</td>\n",
       "      <td>77.449997</td>\n",
       "      <td>76.800003</td>\n",
       "      <td>77.250000</td>\n",
       "      <td>77.250000</td>\n",
       "      <td>7736935</td>\n",
       "    </tr>\n",
       "    <tr>\n",
       "      <th>2023-04-18</th>\n",
       "      <td>77.199997</td>\n",
       "      <td>78.099998</td>\n",
       "      <td>77.199997</td>\n",
       "      <td>78.000000</td>\n",
       "      <td>78.000000</td>\n",
       "      <td>5096362</td>\n",
       "    </tr>\n",
       "    <tr>\n",
       "      <th>2023-04-19</th>\n",
       "      <td>77.949997</td>\n",
       "      <td>78.750000</td>\n",
       "      <td>77.699997</td>\n",
       "      <td>78.550003</td>\n",
       "      <td>78.550003</td>\n",
       "      <td>7940271</td>\n",
       "    </tr>\n",
       "    <tr>\n",
       "      <th>2023-04-20</th>\n",
       "      <td>78.900002</td>\n",
       "      <td>79.099998</td>\n",
       "      <td>78.099998</td>\n",
       "      <td>78.199997</td>\n",
       "      <td>78.199997</td>\n",
       "      <td>7789377</td>\n",
       "    </tr>\n",
       "    <tr>\n",
       "      <th>2023-04-21</th>\n",
       "      <td>78.750000</td>\n",
       "      <td>78.750000</td>\n",
       "      <td>77.849998</td>\n",
       "      <td>78.250000</td>\n",
       "      <td>78.250000</td>\n",
       "      <td>5001767</td>\n",
       "    </tr>\n",
       "  </tbody>\n",
       "</table>\n",
       "<p>100 rows × 6 columns</p>\n",
       "</div>"
      ],
      "text/plain": [
       "                 Open       High        Low      Close  Adj Close    Volume\n",
       "Date                                                                       \n",
       "2022-11-25  72.199997  73.949997  71.650002  73.349998  73.349998  22422462\n",
       "2022-11-28  73.900002  76.449997  73.900002  76.199997  76.199997  40695313\n",
       "2022-11-29  76.449997  76.699997  75.000000  75.300003  75.300003  17421133\n",
       "2022-11-30  74.500000  77.000000  74.449997  76.650002  76.650002  29122442\n",
       "2022-12-01  77.000000  77.150002  76.000000  76.199997  76.199997  15072561\n",
       "...               ...        ...        ...        ...        ...       ...\n",
       "2023-04-17  77.199997  77.449997  76.800003  77.250000  77.250000   7736935\n",
       "2023-04-18  77.199997  78.099998  77.199997  78.000000  78.000000   5096362\n",
       "2023-04-19  77.949997  78.750000  77.699997  78.550003  78.550003   7940271\n",
       "2023-04-20  78.900002  79.099998  78.099998  78.199997  78.199997   7789377\n",
       "2023-04-21  78.750000  78.750000  77.849998  78.250000  78.250000   5001767\n",
       "\n",
       "[100 rows x 6 columns]"
      ]
     },
     "execution_count": 4,
     "metadata": {},
     "output_type": "execute_result"
    }
   ],
   "source": [
    "ioc"
   ]
  },
  {
   "cell_type": "code",
   "execution_count": 5,
   "id": "7842b7bb",
   "metadata": {},
   "outputs": [
    {
     "data": {
      "text/plain": [
       "<bound method NDFrame.to_csv of                  Open       High        Low      Close  Adj Close    Volume\n",
       "Date                                                                       \n",
       "2022-11-25  72.199997  73.949997  71.650002  73.349998  73.349998  22422462\n",
       "2022-11-28  73.900002  76.449997  73.900002  76.199997  76.199997  40695313\n",
       "2022-11-29  76.449997  76.699997  75.000000  75.300003  75.300003  17421133\n",
       "2022-11-30  74.500000  77.000000  74.449997  76.650002  76.650002  29122442\n",
       "2022-12-01  77.000000  77.150002  76.000000  76.199997  76.199997  15072561\n",
       "...               ...        ...        ...        ...        ...       ...\n",
       "2023-04-17  77.199997  77.449997  76.800003  77.250000  77.250000   7736935\n",
       "2023-04-18  77.199997  78.099998  77.199997  78.000000  78.000000   5096362\n",
       "2023-04-19  77.949997  78.750000  77.699997  78.550003  78.550003   7940271\n",
       "2023-04-20  78.900002  79.099998  78.099998  78.199997  78.199997   7789377\n",
       "2023-04-21  78.750000  78.750000  77.849998  78.250000  78.250000   5001767\n",
       "\n",
       "[100 rows x 6 columns]>"
      ]
     },
     "execution_count": 5,
     "metadata": {},
     "output_type": "execute_result"
    }
   ],
   "source": [
    "ioc.to_csv"
   ]
  },
  {
   "cell_type": "code",
   "execution_count": 6,
   "id": "e49ed023",
   "metadata": {},
   "outputs": [],
   "source": [
    "ioc.to_csv('ioc.csv', index=True)\n"
   ]
  },
  {
   "cell_type": "code",
   "execution_count": 7,
   "id": "119ffa0e",
   "metadata": {},
   "outputs": [
    {
     "data": {
      "text/html": [
       "<div>\n",
       "<style scoped>\n",
       "    .dataframe tbody tr th:only-of-type {\n",
       "        vertical-align: middle;\n",
       "    }\n",
       "\n",
       "    .dataframe tbody tr th {\n",
       "        vertical-align: top;\n",
       "    }\n",
       "\n",
       "    .dataframe thead th {\n",
       "        text-align: right;\n",
       "    }\n",
       "</style>\n",
       "<table border=\"1\" class=\"dataframe\">\n",
       "  <thead>\n",
       "    <tr style=\"text-align: right;\">\n",
       "      <th></th>\n",
       "      <th>Date</th>\n",
       "      <th>Open</th>\n",
       "      <th>High</th>\n",
       "      <th>Low</th>\n",
       "      <th>Close</th>\n",
       "      <th>Adj Close</th>\n",
       "      <th>Volume</th>\n",
       "    </tr>\n",
       "  </thead>\n",
       "  <tbody>\n",
       "    <tr>\n",
       "      <th>0</th>\n",
       "      <td>2022-11-25</td>\n",
       "      <td>72.199997</td>\n",
       "      <td>73.949997</td>\n",
       "      <td>71.650002</td>\n",
       "      <td>73.349998</td>\n",
       "      <td>73.349998</td>\n",
       "      <td>22422462</td>\n",
       "    </tr>\n",
       "    <tr>\n",
       "      <th>1</th>\n",
       "      <td>2022-11-28</td>\n",
       "      <td>73.900002</td>\n",
       "      <td>76.449997</td>\n",
       "      <td>73.900002</td>\n",
       "      <td>76.199997</td>\n",
       "      <td>76.199997</td>\n",
       "      <td>40695313</td>\n",
       "    </tr>\n",
       "    <tr>\n",
       "      <th>2</th>\n",
       "      <td>2022-11-29</td>\n",
       "      <td>76.449997</td>\n",
       "      <td>76.699997</td>\n",
       "      <td>75.000000</td>\n",
       "      <td>75.300003</td>\n",
       "      <td>75.300003</td>\n",
       "      <td>17421133</td>\n",
       "    </tr>\n",
       "    <tr>\n",
       "      <th>3</th>\n",
       "      <td>2022-11-30</td>\n",
       "      <td>74.500000</td>\n",
       "      <td>77.000000</td>\n",
       "      <td>74.449997</td>\n",
       "      <td>76.650002</td>\n",
       "      <td>76.650002</td>\n",
       "      <td>29122442</td>\n",
       "    </tr>\n",
       "    <tr>\n",
       "      <th>4</th>\n",
       "      <td>2022-12-01</td>\n",
       "      <td>77.000000</td>\n",
       "      <td>77.150002</td>\n",
       "      <td>76.000000</td>\n",
       "      <td>76.199997</td>\n",
       "      <td>76.199997</td>\n",
       "      <td>15072561</td>\n",
       "    </tr>\n",
       "    <tr>\n",
       "      <th>...</th>\n",
       "      <td>...</td>\n",
       "      <td>...</td>\n",
       "      <td>...</td>\n",
       "      <td>...</td>\n",
       "      <td>...</td>\n",
       "      <td>...</td>\n",
       "      <td>...</td>\n",
       "    </tr>\n",
       "    <tr>\n",
       "      <th>95</th>\n",
       "      <td>2023-04-17</td>\n",
       "      <td>77.199997</td>\n",
       "      <td>77.449997</td>\n",
       "      <td>76.800003</td>\n",
       "      <td>77.250000</td>\n",
       "      <td>77.250000</td>\n",
       "      <td>7736935</td>\n",
       "    </tr>\n",
       "    <tr>\n",
       "      <th>96</th>\n",
       "      <td>2023-04-18</td>\n",
       "      <td>77.199997</td>\n",
       "      <td>78.099998</td>\n",
       "      <td>77.199997</td>\n",
       "      <td>78.000000</td>\n",
       "      <td>78.000000</td>\n",
       "      <td>5096362</td>\n",
       "    </tr>\n",
       "    <tr>\n",
       "      <th>97</th>\n",
       "      <td>2023-04-19</td>\n",
       "      <td>77.949997</td>\n",
       "      <td>78.750000</td>\n",
       "      <td>77.699997</td>\n",
       "      <td>78.550003</td>\n",
       "      <td>78.550003</td>\n",
       "      <td>7940271</td>\n",
       "    </tr>\n",
       "    <tr>\n",
       "      <th>98</th>\n",
       "      <td>2023-04-20</td>\n",
       "      <td>78.900002</td>\n",
       "      <td>79.099998</td>\n",
       "      <td>78.099998</td>\n",
       "      <td>78.199997</td>\n",
       "      <td>78.199997</td>\n",
       "      <td>7789377</td>\n",
       "    </tr>\n",
       "    <tr>\n",
       "      <th>99</th>\n",
       "      <td>2023-04-21</td>\n",
       "      <td>78.750000</td>\n",
       "      <td>78.750000</td>\n",
       "      <td>77.849998</td>\n",
       "      <td>78.250000</td>\n",
       "      <td>78.250000</td>\n",
       "      <td>5001767</td>\n",
       "    </tr>\n",
       "  </tbody>\n",
       "</table>\n",
       "<p>100 rows × 7 columns</p>\n",
       "</div>"
      ],
      "text/plain": [
       "         Date       Open       High        Low      Close  Adj Close    Volume\n",
       "0  2022-11-25  72.199997  73.949997  71.650002  73.349998  73.349998  22422462\n",
       "1  2022-11-28  73.900002  76.449997  73.900002  76.199997  76.199997  40695313\n",
       "2  2022-11-29  76.449997  76.699997  75.000000  75.300003  75.300003  17421133\n",
       "3  2022-11-30  74.500000  77.000000  74.449997  76.650002  76.650002  29122442\n",
       "4  2022-12-01  77.000000  77.150002  76.000000  76.199997  76.199997  15072561\n",
       "..        ...        ...        ...        ...        ...        ...       ...\n",
       "95 2023-04-17  77.199997  77.449997  76.800003  77.250000  77.250000   7736935\n",
       "96 2023-04-18  77.199997  78.099998  77.199997  78.000000  78.000000   5096362\n",
       "97 2023-04-19  77.949997  78.750000  77.699997  78.550003  78.550003   7940271\n",
       "98 2023-04-20  78.900002  79.099998  78.099998  78.199997  78.199997   7789377\n",
       "99 2023-04-21  78.750000  78.750000  77.849998  78.250000  78.250000   5001767\n",
       "\n",
       "[100 rows x 7 columns]"
      ]
     },
     "execution_count": 7,
     "metadata": {},
     "output_type": "execute_result"
    }
   ],
   "source": [
    "ioc.reset_index()"
   ]
  },
  {
   "cell_type": "code",
   "execution_count": 8,
   "id": "235c3a6e",
   "metadata": {},
   "outputs": [],
   "source": [
    "#Drop the columns Datewe don't need\n",
    "\n",
    "ioc=ioc[ioc.columns.difference(['Open', 'High', 'Low', 'Adj Close', 'Volume'])].reset_index()"
   ]
  },
  {
   "cell_type": "code",
   "execution_count": 9,
   "id": "9aab96e3",
   "metadata": {},
   "outputs": [
    {
     "name": "stdout",
     "output_type": "stream",
     "text": [
      "<class 'pandas.core.frame.DataFrame'>\n",
      "RangeIndex: 100 entries, 0 to 99\n",
      "Data columns (total 2 columns):\n",
      " #   Column  Non-Null Count  Dtype         \n",
      "---  ------  --------------  -----         \n",
      " 0   Date    100 non-null    datetime64[ns]\n",
      " 1   Close   100 non-null    float64       \n",
      "dtypes: datetime64[ns](1), float64(1)\n",
      "memory usage: 1.7 KB\n"
     ]
    }
   ],
   "source": [
    "ioc.info()"
   ]
  },
  {
   "cell_type": "code",
   "execution_count": 10,
   "id": "f3bb788c",
   "metadata": {},
   "outputs": [
    {
     "data": {
      "image/png": "[encoded data removed]",
      "text/plain": [
       "<Figure size 640x480 with 1 Axes>"
      ]
     },
     "metadata": {},
     "output_type": "display_data"
    }
   ],
   "source": [
    "#Plot close\n",
    "\n",
    "plt.plot(ioc['Close'])\n",
    "plt.show()"
   ]
  },
  {
   "cell_type": "markdown",
   "id": "60ce24b0",
   "metadata": {},
   "source": [
    "### RESHAPE the data set!"
   ]
  },
  {
   "cell_type": "code",
   "execution_count": 11,
   "id": "1c94bbed",
   "metadata": {},
   "outputs": [
    {
     "name": "stdout",
     "output_type": "stream",
     "text": [
      "<class 'pandas.core.frame.DataFrame'>\n",
      "RangeIndex: 100 entries, 0 to 99\n",
      "Data columns (total 2 columns):\n",
      " #   Column  Non-Null Count  Dtype         \n",
      "---  ------  --------------  -----         \n",
      " 0   Date    100 non-null    datetime64[ns]\n",
      " 1   Close   100 non-null    float64       \n",
      "dtypes: datetime64[ns](1), float64(1)\n",
      "memory usage: 1.7 KB\n"
     ]
    }
   ],
   "source": [
    "ioc.info()"
   ]
  },
  {
   "cell_type": "code",
   "execution_count": 12,
   "id": "6da39a30",
   "metadata": {},
   "outputs": [
    {
     "data": {
      "text/plain": [
       "(100, 2)"
      ]
     },
     "execution_count": 12,
     "metadata": {},
     "output_type": "execute_result"
    }
   ],
   "source": [
    "ioc.shape"
   ]
  },
  {
   "cell_type": "code",
   "execution_count": 13,
   "id": "b03c5517",
   "metadata": {},
   "outputs": [
    {
     "data": {
      "text/html": [
       "<div>\n",
       "<style scoped>\n",
       "    .dataframe tbody tr th:only-of-type {\n",
       "        vertical-align: middle;\n",
       "    }\n",
       "\n",
       "    .dataframe tbody tr th {\n",
       "        vertical-align: top;\n",
       "    }\n",
       "\n",
       "    .dataframe thead th {\n",
       "        text-align: right;\n",
       "    }\n",
       "</style>\n",
       "<table border=\"1\" class=\"dataframe\">\n",
       "  <thead>\n",
       "    <tr style=\"text-align: right;\">\n",
       "      <th></th>\n",
       "      <th>Close</th>\n",
       "    </tr>\n",
       "    <tr>\n",
       "      <th>Date</th>\n",
       "      <th></th>\n",
       "    </tr>\n",
       "  </thead>\n",
       "  <tbody>\n",
       "    <tr>\n",
       "      <th>2022-11-25</th>\n",
       "      <td>1</td>\n",
       "    </tr>\n",
       "    <tr>\n",
       "      <th>2022-11-28</th>\n",
       "      <td>1</td>\n",
       "    </tr>\n",
       "    <tr>\n",
       "      <th>2022-11-29</th>\n",
       "      <td>1</td>\n",
       "    </tr>\n",
       "    <tr>\n",
       "      <th>2022-11-30</th>\n",
       "      <td>1</td>\n",
       "    </tr>\n",
       "    <tr>\n",
       "      <th>2022-12-01</th>\n",
       "      <td>1</td>\n",
       "    </tr>\n",
       "    <tr>\n",
       "      <th>...</th>\n",
       "      <td>...</td>\n",
       "    </tr>\n",
       "    <tr>\n",
       "      <th>2023-04-17</th>\n",
       "      <td>1</td>\n",
       "    </tr>\n",
       "    <tr>\n",
       "      <th>2023-04-18</th>\n",
       "      <td>1</td>\n",
       "    </tr>\n",
       "    <tr>\n",
       "      <th>2023-04-19</th>\n",
       "      <td>1</td>\n",
       "    </tr>\n",
       "    <tr>\n",
       "      <th>2023-04-20</th>\n",
       "      <td>1</td>\n",
       "    </tr>\n",
       "    <tr>\n",
       "      <th>2023-04-21</th>\n",
       "      <td>1</td>\n",
       "    </tr>\n",
       "  </tbody>\n",
       "</table>\n",
       "<p>100 rows × 1 columns</p>\n",
       "</div>"
      ],
      "text/plain": [
       "            Close\n",
       "Date             \n",
       "2022-11-25      1\n",
       "2022-11-28      1\n",
       "2022-11-29      1\n",
       "2022-11-30      1\n",
       "2022-12-01      1\n",
       "...           ...\n",
       "2023-04-17      1\n",
       "2023-04-18      1\n",
       "2023-04-19      1\n",
       "2023-04-20      1\n",
       "2023-04-21      1\n",
       "\n",
       "[100 rows x 1 columns]"
      ]
     },
     "execution_count": 13,
     "metadata": {},
     "output_type": "execute_result"
    }
   ],
   "source": [
    "ioc.groupby(['Date']).count()"
   ]
  },
  {
   "cell_type": "code",
   "execution_count": 14,
   "id": "3f3feebf",
   "metadata": {},
   "outputs": [
    {
     "data": {
      "text/html": [
       "<div>\n",
       "<style scoped>\n",
       "    .dataframe tbody tr th:only-of-type {\n",
       "        vertical-align: middle;\n",
       "    }\n",
       "\n",
       "    .dataframe tbody tr th {\n",
       "        vertical-align: top;\n",
       "    }\n",
       "\n",
       "    .dataframe thead th {\n",
       "        text-align: right;\n",
       "    }\n",
       "</style>\n",
       "<table border=\"1\" class=\"dataframe\">\n",
       "  <thead>\n",
       "    <tr style=\"text-align: right;\">\n",
       "      <th></th>\n",
       "      <th>Date</th>\n",
       "      <th>Close</th>\n",
       "    </tr>\n",
       "  </thead>\n",
       "  <tbody>\n",
       "    <tr>\n",
       "      <th>0</th>\n",
       "      <td>2022-11-25</td>\n",
       "      <td>73.349998</td>\n",
       "    </tr>\n",
       "    <tr>\n",
       "      <th>1</th>\n",
       "      <td>2022-11-28</td>\n",
       "      <td>76.199997</td>\n",
       "    </tr>\n",
       "    <tr>\n",
       "      <th>2</th>\n",
       "      <td>2022-11-29</td>\n",
       "      <td>75.300003</td>\n",
       "    </tr>\n",
       "    <tr>\n",
       "      <th>3</th>\n",
       "      <td>2022-11-30</td>\n",
       "      <td>76.650002</td>\n",
       "    </tr>\n",
       "    <tr>\n",
       "      <th>4</th>\n",
       "      <td>2022-12-01</td>\n",
       "      <td>76.199997</td>\n",
       "    </tr>\n",
       "    <tr>\n",
       "      <th>5</th>\n",
       "      <td>2022-12-02</td>\n",
       "      <td>77.000000</td>\n",
       "    </tr>\n",
       "    <tr>\n",
       "      <th>6</th>\n",
       "      <td>2022-12-05</td>\n",
       "      <td>77.050003</td>\n",
       "    </tr>\n",
       "    <tr>\n",
       "      <th>7</th>\n",
       "      <td>2022-12-06</td>\n",
       "      <td>75.800003</td>\n",
       "    </tr>\n",
       "    <tr>\n",
       "      <th>8</th>\n",
       "      <td>2022-12-07</td>\n",
       "      <td>76.699997</td>\n",
       "    </tr>\n",
       "    <tr>\n",
       "      <th>9</th>\n",
       "      <td>2022-12-08</td>\n",
       "      <td>76.750000</td>\n",
       "    </tr>\n",
       "  </tbody>\n",
       "</table>\n",
       "</div>"
      ],
      "text/plain": [
       "        Date      Close\n",
       "0 2022-11-25  73.349998\n",
       "1 2022-11-28  76.199997\n",
       "2 2022-11-29  75.300003\n",
       "3 2022-11-30  76.650002\n",
       "4 2022-12-01  76.199997\n",
       "5 2022-12-02  77.000000\n",
       "6 2022-12-05  77.050003\n",
       "7 2022-12-06  75.800003\n",
       "8 2022-12-07  76.699997\n",
       "9 2022-12-08  76.750000"
      ]
     },
     "execution_count": 14,
     "metadata": {},
     "output_type": "execute_result"
    }
   ],
   "source": [
    "ioc.head(10)"
   ]
  },
  {
   "cell_type": "code",
   "execution_count": 15,
   "id": "d7a691ec",
   "metadata": {},
   "outputs": [
    {
     "data": {
      "text/plain": [
       "<AxesSubplot:xlabel='Date', ylabel='Close'>"
      ]
     },
     "execution_count": 15,
     "metadata": {},
     "output_type": "execute_result"
    },
    {
     "data": {
      "image/png": "[encoded data removed]",
      "text/plain": [
       "<Figure size 1000x500 with 1 Axes>"
      ]
     },
     "metadata": {},
     "output_type": "display_data"
    }
   ],
   "source": [
    "plt.figure(figsize=(10,5))\n",
    "sns.lineplot(x='Date',y='Close',data=ioc)"
   ]
  },
  {
   "cell_type": "code",
   "execution_count": 16,
   "id": "b9b2ed9d",
   "metadata": {},
   "outputs": [
    {
     "data": {
      "text/plain": [
       "array([[73.34999847, 76.19999695, 75.30000305, 76.65000153, 76.19999695,\n",
       "        77.        , 77.05000305, 75.80000305, 76.69999695, 76.75      ],\n",
       "       [77.        , 78.90000153, 77.75      , 78.15000153, 78.09999847,\n",
       "        76.94999695, 77.94999695, 77.80000305, 76.40000153, 75.09999847],\n",
       "       [73.        , 74.40000153, 75.09999847, 74.80000305, 74.75      ,\n",
       "        76.5       , 78.        , 78.5       , 78.09999847, 79.09999847],\n",
       "       [80.05000305, 80.09999847, 80.59999847, 83.55000305, 81.59999847,\n",
       "        82.30000305, 82.25      , 81.59999847, 82.15000153, 83.25      ],\n",
       "       [82.90000153, 83.44999695, 83.15000153, 82.5       , 81.        ,\n",
       "        81.75      , 81.75      , 79.80000305, 78.55000305, 78.44999695],\n",
       "       [79.25      , 79.05000305, 79.25      , 79.59999847, 79.80000305,\n",
       "        79.5       , 79.15000153, 79.5       , 79.80000305, 80.55000305],\n",
       "       [79.55000305, 79.19999695, 77.30000305, 77.19999695, 77.34999847,\n",
       "        76.84999847, 76.05000305, 76.94999695, 77.90000153, 78.19999695],\n",
       "       [79.25      , 79.19999695, 78.69999695, 78.90000153, 77.80000305,\n",
       "        77.69999695, 78.59999847, 79.90000153, 79.30000305, 80.59999847],\n",
       "       [79.55000305, 79.59999847, 79.        , 78.40000153, 77.09999847,\n",
       "        76.90000153, 76.90000153, 77.90000153, 77.5       , 77.15000153],\n",
       "       [77.69999695, 77.80000305, 77.90000153, 78.        , 77.19999695,\n",
       "        77.25      , 78.        , 78.55000305, 78.19999695, 78.25      ]])"
      ]
     },
     "execution_count": 16,
     "metadata": {},
     "output_type": "execute_result"
    }
   ],
   "source": [
    "# Re-organize the data set by day and hours\n",
    "\n",
    "temp = np.array(ioc['Close']).reshape(10,10)\n",
    "\n",
    "temp"
   ]
  },
  {
   "cell_type": "code",
   "execution_count": 17,
   "id": "526b1f5a",
   "metadata": {},
   "outputs": [
    {
     "data": {
      "text/plain": [
       "(100, 2)"
      ]
     },
     "execution_count": 17,
     "metadata": {},
     "output_type": "execute_result"
    }
   ],
   "source": [
    "ioc.shape"
   ]
  },
  {
   "cell_type": "code",
   "execution_count": 18,
   "id": "434c141d",
   "metadata": {},
   "outputs": [
    {
     "data": {
      "text/html": [
       "<div>\n",
       "<style scoped>\n",
       "    .dataframe tbody tr th:only-of-type {\n",
       "        vertical-align: middle;\n",
       "    }\n",
       "\n",
       "    .dataframe tbody tr th {\n",
       "        vertical-align: top;\n",
       "    }\n",
       "\n",
       "    .dataframe thead th {\n",
       "        text-align: right;\n",
       "    }\n",
       "</style>\n",
       "<table border=\"1\" class=\"dataframe\">\n",
       "  <thead>\n",
       "    <tr style=\"text-align: right;\">\n",
       "      <th></th>\n",
       "      <th>0</th>\n",
       "      <th>1</th>\n",
       "      <th>2</th>\n",
       "      <th>3</th>\n",
       "      <th>4</th>\n",
       "      <th>5</th>\n",
       "      <th>6</th>\n",
       "      <th>7</th>\n",
       "      <th>8</th>\n",
       "      <th>9</th>\n",
       "    </tr>\n",
       "  </thead>\n",
       "  <tbody>\n",
       "    <tr>\n",
       "      <th>0</th>\n",
       "      <td>73.349998</td>\n",
       "      <td>76.199997</td>\n",
       "      <td>75.300003</td>\n",
       "      <td>76.650002</td>\n",
       "      <td>76.199997</td>\n",
       "      <td>77.000000</td>\n",
       "      <td>77.050003</td>\n",
       "      <td>75.800003</td>\n",
       "      <td>76.699997</td>\n",
       "      <td>76.750000</td>\n",
       "    </tr>\n",
       "    <tr>\n",
       "      <th>1</th>\n",
       "      <td>77.000000</td>\n",
       "      <td>78.900002</td>\n",
       "      <td>77.750000</td>\n",
       "      <td>78.150002</td>\n",
       "      <td>78.099998</td>\n",
       "      <td>76.949997</td>\n",
       "      <td>77.949997</td>\n",
       "      <td>77.800003</td>\n",
       "      <td>76.400002</td>\n",
       "      <td>75.099998</td>\n",
       "    </tr>\n",
       "    <tr>\n",
       "      <th>2</th>\n",
       "      <td>73.000000</td>\n",
       "      <td>74.400002</td>\n",
       "      <td>75.099998</td>\n",
       "      <td>74.800003</td>\n",
       "      <td>74.750000</td>\n",
       "      <td>76.500000</td>\n",
       "      <td>78.000000</td>\n",
       "      <td>78.500000</td>\n",
       "      <td>78.099998</td>\n",
       "      <td>79.099998</td>\n",
       "    </tr>\n",
       "    <tr>\n",
       "      <th>3</th>\n",
       "      <td>80.050003</td>\n",
       "      <td>80.099998</td>\n",
       "      <td>80.599998</td>\n",
       "      <td>83.550003</td>\n",
       "      <td>81.599998</td>\n",
       "      <td>82.300003</td>\n",
       "      <td>82.250000</td>\n",
       "      <td>81.599998</td>\n",
       "      <td>82.150002</td>\n",
       "      <td>83.250000</td>\n",
       "    </tr>\n",
       "    <tr>\n",
       "      <th>4</th>\n",
       "      <td>82.900002</td>\n",
       "      <td>83.449997</td>\n",
       "      <td>83.150002</td>\n",
       "      <td>82.500000</td>\n",
       "      <td>81.000000</td>\n",
       "      <td>81.750000</td>\n",
       "      <td>81.750000</td>\n",
       "      <td>79.800003</td>\n",
       "      <td>78.550003</td>\n",
       "      <td>78.449997</td>\n",
       "    </tr>\n",
       "    <tr>\n",
       "      <th>5</th>\n",
       "      <td>79.250000</td>\n",
       "      <td>79.050003</td>\n",
       "      <td>79.250000</td>\n",
       "      <td>79.599998</td>\n",
       "      <td>79.800003</td>\n",
       "      <td>79.500000</td>\n",
       "      <td>79.150002</td>\n",
       "      <td>79.500000</td>\n",
       "      <td>79.800003</td>\n",
       "      <td>80.550003</td>\n",
       "    </tr>\n",
       "    <tr>\n",
       "      <th>6</th>\n",
       "      <td>79.550003</td>\n",
       "      <td>79.199997</td>\n",
       "      <td>77.300003</td>\n",
       "      <td>77.199997</td>\n",
       "      <td>77.349998</td>\n",
       "      <td>76.849998</td>\n",
       "      <td>76.050003</td>\n",
       "      <td>76.949997</td>\n",
       "      <td>77.900002</td>\n",
       "      <td>78.199997</td>\n",
       "    </tr>\n",
       "    <tr>\n",
       "      <th>7</th>\n",
       "      <td>79.250000</td>\n",
       "      <td>79.199997</td>\n",
       "      <td>78.699997</td>\n",
       "      <td>78.900002</td>\n",
       "      <td>77.800003</td>\n",
       "      <td>77.699997</td>\n",
       "      <td>78.599998</td>\n",
       "      <td>79.900002</td>\n",
       "      <td>79.300003</td>\n",
       "      <td>80.599998</td>\n",
       "    </tr>\n",
       "    <tr>\n",
       "      <th>8</th>\n",
       "      <td>79.550003</td>\n",
       "      <td>79.599998</td>\n",
       "      <td>79.000000</td>\n",
       "      <td>78.400002</td>\n",
       "      <td>77.099998</td>\n",
       "      <td>76.900002</td>\n",
       "      <td>76.900002</td>\n",
       "      <td>77.900002</td>\n",
       "      <td>77.500000</td>\n",
       "      <td>77.150002</td>\n",
       "    </tr>\n",
       "    <tr>\n",
       "      <th>9</th>\n",
       "      <td>77.699997</td>\n",
       "      <td>77.800003</td>\n",
       "      <td>77.900002</td>\n",
       "      <td>78.000000</td>\n",
       "      <td>77.199997</td>\n",
       "      <td>77.250000</td>\n",
       "      <td>78.000000</td>\n",
       "      <td>78.550003</td>\n",
       "      <td>78.199997</td>\n",
       "      <td>78.250000</td>\n",
       "    </tr>\n",
       "  </tbody>\n",
       "</table>\n",
       "</div>"
      ],
      "text/plain": [
       "           0          1          2          3          4          5  \\\n",
       "0  73.349998  76.199997  75.300003  76.650002  76.199997  77.000000   \n",
       "1  77.000000  78.900002  77.750000  78.150002  78.099998  76.949997   \n",
       "2  73.000000  74.400002  75.099998  74.800003  74.750000  76.500000   \n",
       "3  80.050003  80.099998  80.599998  83.550003  81.599998  82.300003   \n",
       "4  82.900002  83.449997  83.150002  82.500000  81.000000  81.750000   \n",
       "5  79.250000  79.050003  79.250000  79.599998  79.800003  79.500000   \n",
       "6  79.550003  79.199997  77.300003  77.199997  77.349998  76.849998   \n",
       "7  79.250000  79.199997  78.699997  78.900002  77.800003  77.699997   \n",
       "8  79.550003  79.599998  79.000000  78.400002  77.099998  76.900002   \n",
       "9  77.699997  77.800003  77.900002  78.000000  77.199997  77.250000   \n",
       "\n",
       "           6          7          8          9  \n",
       "0  77.050003  75.800003  76.699997  76.750000  \n",
       "1  77.949997  77.800003  76.400002  75.099998  \n",
       "2  78.000000  78.500000  78.099998  79.099998  \n",
       "3  82.250000  81.599998  82.150002  83.250000  \n",
       "4  81.750000  79.800003  78.550003  78.449997  \n",
       "5  79.150002  79.500000  79.800003  80.550003  \n",
       "6  76.050003  76.949997  77.900002  78.199997  \n",
       "7  78.599998  79.900002  79.300003  80.599998  \n",
       "8  76.900002  77.900002  77.500000  77.150002  \n",
       "9  78.000000  78.550003  78.199997  78.250000  "
      ]
     },
     "execution_count": 18,
     "metadata": {},
     "output_type": "execute_result"
    }
   ],
   "source": [
    "# Convert to dataframe\n",
    "\n",
    "temp_df = pd.DataFrame(temp, columns=np.arange(0,10,1))\n",
    "\n",
    "temp_df"
   ]
  },
  {
   "cell_type": "markdown",
   "id": "fb4f276f",
   "metadata": {},
   "source": [
    "### Standardization"
   ]
  },
  {
   "cell_type": "code",
   "execution_count": 19,
   "id": "3a7b2949",
   "metadata": {},
   "outputs": [
    {
     "data": {
      "text/plain": [
       "(100, 1)"
      ]
     },
     "execution_count": 19,
     "metadata": {},
     "output_type": "execute_result"
    }
   ],
   "source": [
    "# Let's create a single sequence (i.e., feature) for standardization\n",
    "\n",
    "temp_1feature = np.array(temp_df).ravel().reshape(-1,1)\n",
    "\n",
    "temp_1feature.shape"
   ]
  },
  {
   "cell_type": "code",
   "execution_count": 20,
   "id": "a9fd94ac",
   "metadata": {},
   "outputs": [
    {
     "data": {
      "text/plain": [
       "array([[73.34999847],\n",
       "       [76.19999695],\n",
       "       [75.30000305],\n",
       "       [76.65000153],\n",
       "       [76.19999695],\n",
       "       [77.        ],\n",
       "       [77.05000305],\n",
       "       [75.80000305],\n",
       "       [76.69999695],\n",
       "       [76.75      ],\n",
       "       [77.        ],\n",
       "       [78.90000153],\n",
       "       [77.75      ],\n",
       "       [78.15000153],\n",
       "       [78.09999847],\n",
       "       [76.94999695],\n",
       "       [77.94999695],\n",
       "       [77.80000305],\n",
       "       [76.40000153],\n",
       "       [75.09999847],\n",
       "       [73.        ],\n",
       "       [74.40000153],\n",
       "       [75.09999847],\n",
       "       [74.80000305],\n",
       "       [74.75      ],\n",
       "       [76.5       ],\n",
       "       [78.        ],\n",
       "       [78.5       ],\n",
       "       [78.09999847],\n",
       "       [79.09999847],\n",
       "       [80.05000305],\n",
       "       [80.09999847],\n",
       "       [80.59999847],\n",
       "       [83.55000305],\n",
       "       [81.59999847],\n",
       "       [82.30000305],\n",
       "       [82.25      ],\n",
       "       [81.59999847],\n",
       "       [82.15000153],\n",
       "       [83.25      ],\n",
       "       [82.90000153],\n",
       "       [83.44999695],\n",
       "       [83.15000153],\n",
       "       [82.5       ],\n",
       "       [81.        ],\n",
       "       [81.75      ],\n",
       "       [81.75      ],\n",
       "       [79.80000305],\n",
       "       [78.55000305],\n",
       "       [78.44999695],\n",
       "       [79.25      ],\n",
       "       [79.05000305],\n",
       "       [79.25      ],\n",
       "       [79.59999847],\n",
       "       [79.80000305],\n",
       "       [79.5       ],\n",
       "       [79.15000153],\n",
       "       [79.5       ],\n",
       "       [79.80000305],\n",
       "       [80.55000305],\n",
       "       [79.55000305],\n",
       "       [79.19999695],\n",
       "       [77.30000305],\n",
       "       [77.19999695],\n",
       "       [77.34999847],\n",
       "       [76.84999847],\n",
       "       [76.05000305],\n",
       "       [76.94999695],\n",
       "       [77.90000153],\n",
       "       [78.19999695],\n",
       "       [79.25      ],\n",
       "       [79.19999695],\n",
       "       [78.69999695],\n",
       "       [78.90000153],\n",
       "       [77.80000305],\n",
       "       [77.69999695],\n",
       "       [78.59999847],\n",
       "       [79.90000153],\n",
       "       [79.30000305],\n",
       "       [80.59999847],\n",
       "       [79.55000305],\n",
       "       [79.59999847],\n",
       "       [79.        ],\n",
       "       [78.40000153],\n",
       "       [77.09999847],\n",
       "       [76.90000153],\n",
       "       [76.90000153],\n",
       "       [77.90000153],\n",
       "       [77.5       ],\n",
       "       [77.15000153],\n",
       "       [77.69999695],\n",
       "       [77.80000305],\n",
       "       [77.90000153],\n",
       "       [78.        ],\n",
       "       [77.19999695],\n",
       "       [77.25      ],\n",
       "       [78.        ],\n",
       "       [78.55000305],\n",
       "       [78.19999695],\n",
       "       [78.25      ]])"
      ]
     },
     "execution_count": 20,
     "metadata": {},
     "output_type": "execute_result"
    }
   ],
   "source": [
    "temp_1feature"
   ]
  },
  {
   "cell_type": "markdown",
   "id": "0be43aee",
   "metadata": {},
   "source": [
    "### Standardizing  the values"
   ]
  },
  {
   "cell_type": "code",
   "execution_count": 21,
   "id": "2665668b",
   "metadata": {},
   "outputs": [],
   "source": [
    "# Next, standardize\n",
    "\n",
    "from sklearn.preprocessing import StandardScaler\n",
    "\n",
    "scaler = StandardScaler()\n",
    "\n",
    "temp_std = scaler.fit_transform(temp_1feature)"
   ]
  },
  {
   "cell_type": "code",
   "execution_count": 22,
   "id": "3020a1f7",
   "metadata": {},
   "outputs": [
    {
     "data": {
      "text/plain": [
       "(10, 10)"
      ]
     },
     "execution_count": 22,
     "metadata": {},
     "output_type": "execute_result"
    }
   ],
   "source": [
    "temp_reshaped = temp_std.reshape(10,10)\n",
    "\n",
    "temp_reshaped.shape"
   ]
  },
  {
   "cell_type": "code",
   "execution_count": 23,
   "id": "4c92d9c0",
   "metadata": {},
   "outputs": [
    {
     "data": {
      "text/html": [
       "<div>\n",
       "<style scoped>\n",
       "    .dataframe tbody tr th:only-of-type {\n",
       "        vertical-align: middle;\n",
       "    }\n",
       "\n",
       "    .dataframe tbody tr th {\n",
       "        vertical-align: top;\n",
       "    }\n",
       "\n",
       "    .dataframe thead th {\n",
       "        text-align: right;\n",
       "    }\n",
       "</style>\n",
       "<table border=\"1\" class=\"dataframe\">\n",
       "  <thead>\n",
       "    <tr style=\"text-align: right;\">\n",
       "      <th></th>\n",
       "      <th>0</th>\n",
       "      <th>1</th>\n",
       "      <th>2</th>\n",
       "      <th>3</th>\n",
       "      <th>4</th>\n",
       "      <th>5</th>\n",
       "      <th>6</th>\n",
       "      <th>7</th>\n",
       "      <th>8</th>\n",
       "      <th>9</th>\n",
       "    </tr>\n",
       "  </thead>\n",
       "  <tbody>\n",
       "    <tr>\n",
       "      <th>0</th>\n",
       "      <td>-2.372470</td>\n",
       "      <td>-1.056740</td>\n",
       "      <td>-1.472231</td>\n",
       "      <td>-0.848992</td>\n",
       "      <td>-1.056740</td>\n",
       "      <td>-0.687411</td>\n",
       "      <td>-0.664327</td>\n",
       "      <td>-1.241402</td>\n",
       "      <td>-0.825911</td>\n",
       "      <td>-0.802826</td>\n",
       "    </tr>\n",
       "    <tr>\n",
       "      <th>1</th>\n",
       "      <td>-0.687411</td>\n",
       "      <td>0.189743</td>\n",
       "      <td>-0.341167</td>\n",
       "      <td>-0.156502</td>\n",
       "      <td>-0.179586</td>\n",
       "      <td>-0.710496</td>\n",
       "      <td>-0.248836</td>\n",
       "      <td>-0.318082</td>\n",
       "      <td>-0.964406</td>\n",
       "      <td>-1.564565</td>\n",
       "    </tr>\n",
       "    <tr>\n",
       "      <th>2</th>\n",
       "      <td>-2.534050</td>\n",
       "      <td>-1.887726</td>\n",
       "      <td>-1.564565</td>\n",
       "      <td>-1.703061</td>\n",
       "      <td>-1.726146</td>\n",
       "      <td>-0.918241</td>\n",
       "      <td>-0.225752</td>\n",
       "      <td>0.005078</td>\n",
       "      <td>-0.179586</td>\n",
       "      <td>0.282073</td>\n",
       "    </tr>\n",
       "    <tr>\n",
       "      <th>3</th>\n",
       "      <td>0.720652</td>\n",
       "      <td>0.743733</td>\n",
       "      <td>0.974563</td>\n",
       "      <td>2.336461</td>\n",
       "      <td>1.436222</td>\n",
       "      <td>1.759386</td>\n",
       "      <td>1.736302</td>\n",
       "      <td>1.436222</td>\n",
       "      <td>1.690137</td>\n",
       "      <td>2.197962</td>\n",
       "    </tr>\n",
       "    <tr>\n",
       "      <th>4</th>\n",
       "      <td>2.036381</td>\n",
       "      <td>2.290292</td>\n",
       "      <td>2.151796</td>\n",
       "      <td>1.851717</td>\n",
       "      <td>1.159227</td>\n",
       "      <td>1.505472</td>\n",
       "      <td>1.505472</td>\n",
       "      <td>0.605237</td>\n",
       "      <td>0.028163</td>\n",
       "      <td>-0.018006</td>\n",
       "    </tr>\n",
       "    <tr>\n",
       "      <th>5</th>\n",
       "      <td>0.351323</td>\n",
       "      <td>0.258992</td>\n",
       "      <td>0.351323</td>\n",
       "      <td>0.512903</td>\n",
       "      <td>0.605237</td>\n",
       "      <td>0.466738</td>\n",
       "      <td>0.305158</td>\n",
       "      <td>0.466738</td>\n",
       "      <td>0.605237</td>\n",
       "      <td>0.951482</td>\n",
       "    </tr>\n",
       "    <tr>\n",
       "      <th>6</th>\n",
       "      <td>0.489822</td>\n",
       "      <td>0.328239</td>\n",
       "      <td>-0.548912</td>\n",
       "      <td>-0.595081</td>\n",
       "      <td>-0.525831</td>\n",
       "      <td>-0.756661</td>\n",
       "      <td>-1.125987</td>\n",
       "      <td>-0.710496</td>\n",
       "      <td>-0.271917</td>\n",
       "      <td>-0.133421</td>\n",
       "    </tr>\n",
       "    <tr>\n",
       "      <th>7</th>\n",
       "      <td>0.351323</td>\n",
       "      <td>0.328239</td>\n",
       "      <td>0.097409</td>\n",
       "      <td>0.189743</td>\n",
       "      <td>-0.318082</td>\n",
       "      <td>-0.364251</td>\n",
       "      <td>0.051243</td>\n",
       "      <td>0.651402</td>\n",
       "      <td>0.374407</td>\n",
       "      <td>0.974563</td>\n",
       "    </tr>\n",
       "    <tr>\n",
       "      <th>8</th>\n",
       "      <td>0.489822</td>\n",
       "      <td>0.512903</td>\n",
       "      <td>0.235908</td>\n",
       "      <td>-0.041087</td>\n",
       "      <td>-0.641246</td>\n",
       "      <td>-0.733577</td>\n",
       "      <td>-0.733577</td>\n",
       "      <td>-0.271917</td>\n",
       "      <td>-0.456581</td>\n",
       "      <td>-0.618162</td>\n",
       "    </tr>\n",
       "    <tr>\n",
       "      <th>9</th>\n",
       "      <td>-0.364251</td>\n",
       "      <td>-0.318082</td>\n",
       "      <td>-0.271917</td>\n",
       "      <td>-0.225752</td>\n",
       "      <td>-0.595081</td>\n",
       "      <td>-0.571996</td>\n",
       "      <td>-0.225752</td>\n",
       "      <td>0.028163</td>\n",
       "      <td>-0.133421</td>\n",
       "      <td>-0.110337</td>\n",
       "    </tr>\n",
       "  </tbody>\n",
       "</table>\n",
       "</div>"
      ],
      "text/plain": [
       "          0         1         2         3         4         5         6  \\\n",
       "0 -2.372470 -1.056740 -1.472231 -0.848992 -1.056740 -0.687411 -0.664327   \n",
       "1 -0.687411  0.189743 -0.341167 -0.156502 -0.179586 -0.710496 -0.248836   \n",
       "2 -2.534050 -1.887726 -1.564565 -1.703061 -1.726146 -0.918241 -0.225752   \n",
       "3  0.720652  0.743733  0.974563  2.336461  1.436222  1.759386  1.736302   \n",
       "4  2.036381  2.290292  2.151796  1.851717  1.159227  1.505472  1.505472   \n",
       "5  0.351323  0.258992  0.351323  0.512903  0.605237  0.466738  0.305158   \n",
       "6  0.489822  0.328239 -0.548912 -0.595081 -0.525831 -0.756661 -1.125987   \n",
       "7  0.351323  0.328239  0.097409  0.189743 -0.318082 -0.364251  0.051243   \n",
       "8  0.489822  0.512903  0.235908 -0.041087 -0.641246 -0.733577 -0.733577   \n",
       "9 -0.364251 -0.318082 -0.271917 -0.225752 -0.595081 -0.571996 -0.225752   \n",
       "\n",
       "          7         8         9  \n",
       "0 -1.241402 -0.825911 -0.802826  \n",
       "1 -0.318082 -0.964406 -1.564565  \n",
       "2  0.005078 -0.179586  0.282073  \n",
       "3  1.436222  1.690137  2.197962  \n",
       "4  0.605237  0.028163 -0.018006  \n",
       "5  0.466738  0.605237  0.951482  \n",
       "6 -0.710496 -0.271917 -0.133421  \n",
       "7  0.651402  0.374407  0.974563  \n",
       "8 -0.271917 -0.456581 -0.618162  \n",
       "9  0.028163 -0.133421 -0.110337  "
      ]
     },
     "execution_count": 23,
     "metadata": {},
     "output_type": "execute_result"
    }
   ],
   "source": [
    "#Pandas version of the reshaped data\n",
    "\n",
    "pd.DataFrame(temp_reshaped)"
   ]
  },
  {
   "cell_type": "markdown",
   "id": "9251cf4c",
   "metadata": {},
   "source": [
    "### spliting the data"
   ]
  },
  {
   "cell_type": "code",
   "execution_count": 24,
   "id": "d207aa34",
   "metadata": {},
   "outputs": [],
   "source": [
    "from sklearn.model_selection import train_test_split\n",
    "\n",
    "train, test = train_test_split(temp_reshaped, test_size=0.3)"
   ]
  },
  {
   "cell_type": "code",
   "execution_count": 25,
   "id": "476b0429",
   "metadata": {},
   "outputs": [
    {
     "data": {
      "text/plain": [
       "(7, 10)"
      ]
     },
     "execution_count": 25,
     "metadata": {},
     "output_type": "execute_result"
    }
   ],
   "source": [
    "train.shape"
   ]
  },
  {
   "cell_type": "code",
   "execution_count": 26,
   "id": "cee49185",
   "metadata": {},
   "outputs": [
    {
     "data": {
      "text/plain": [
       "(3, 10)"
      ]
     },
     "execution_count": 26,
     "metadata": {},
     "output_type": "execute_result"
    }
   ],
   "source": [
    "test.shape"
   ]
  },
  {
   "cell_type": "markdown",
   "id": "5e093d13",
   "metadata": {},
   "source": [
    "### Create Input and Target values"
   ]
  },
  {
   "cell_type": "code",
   "execution_count": 27,
   "id": "99a8a39d",
   "metadata": {},
   "outputs": [
    {
     "data": {
      "text/html": [
       "<div>\n",
       "<style scoped>\n",
       "    .dataframe tbody tr th:only-of-type {\n",
       "        vertical-align: middle;\n",
       "    }\n",
       "\n",
       "    .dataframe tbody tr th {\n",
       "        vertical-align: top;\n",
       "    }\n",
       "\n",
       "    .dataframe thead th {\n",
       "        text-align: right;\n",
       "    }\n",
       "</style>\n",
       "<table border=\"1\" class=\"dataframe\">\n",
       "  <thead>\n",
       "    <tr style=\"text-align: right;\">\n",
       "      <th></th>\n",
       "      <th>0</th>\n",
       "      <th>1</th>\n",
       "      <th>2</th>\n",
       "      <th>3</th>\n",
       "      <th>4</th>\n",
       "      <th>5</th>\n",
       "      <th>6</th>\n",
       "      <th>7</th>\n",
       "      <th>8</th>\n",
       "    </tr>\n",
       "  </thead>\n",
       "  <tbody>\n",
       "    <tr>\n",
       "      <th>0</th>\n",
       "      <td>-2.372470</td>\n",
       "      <td>-1.056740</td>\n",
       "      <td>-1.472231</td>\n",
       "      <td>-0.848992</td>\n",
       "      <td>-1.056740</td>\n",
       "      <td>-0.687411</td>\n",
       "      <td>-0.664327</td>\n",
       "      <td>-1.241402</td>\n",
       "      <td>-0.825911</td>\n",
       "    </tr>\n",
       "    <tr>\n",
       "      <th>1</th>\n",
       "      <td>0.351323</td>\n",
       "      <td>0.328239</td>\n",
       "      <td>0.097409</td>\n",
       "      <td>0.189743</td>\n",
       "      <td>-0.318082</td>\n",
       "      <td>-0.364251</td>\n",
       "      <td>0.051243</td>\n",
       "      <td>0.651402</td>\n",
       "      <td>0.374407</td>\n",
       "    </tr>\n",
       "    <tr>\n",
       "      <th>2</th>\n",
       "      <td>-2.534050</td>\n",
       "      <td>-1.887726</td>\n",
       "      <td>-1.564565</td>\n",
       "      <td>-1.703061</td>\n",
       "      <td>-1.726146</td>\n",
       "      <td>-0.918241</td>\n",
       "      <td>-0.225752</td>\n",
       "      <td>0.005078</td>\n",
       "      <td>-0.179586</td>\n",
       "    </tr>\n",
       "    <tr>\n",
       "      <th>3</th>\n",
       "      <td>-0.364251</td>\n",
       "      <td>-0.318082</td>\n",
       "      <td>-0.271917</td>\n",
       "      <td>-0.225752</td>\n",
       "      <td>-0.595081</td>\n",
       "      <td>-0.571996</td>\n",
       "      <td>-0.225752</td>\n",
       "      <td>0.028163</td>\n",
       "      <td>-0.133421</td>\n",
       "    </tr>\n",
       "    <tr>\n",
       "      <th>4</th>\n",
       "      <td>2.036381</td>\n",
       "      <td>2.290292</td>\n",
       "      <td>2.151796</td>\n",
       "      <td>1.851717</td>\n",
       "      <td>1.159227</td>\n",
       "      <td>1.505472</td>\n",
       "      <td>1.505472</td>\n",
       "      <td>0.605237</td>\n",
       "      <td>0.028163</td>\n",
       "    </tr>\n",
       "    <tr>\n",
       "      <th>5</th>\n",
       "      <td>0.720652</td>\n",
       "      <td>0.743733</td>\n",
       "      <td>0.974563</td>\n",
       "      <td>2.336461</td>\n",
       "      <td>1.436222</td>\n",
       "      <td>1.759386</td>\n",
       "      <td>1.736302</td>\n",
       "      <td>1.436222</td>\n",
       "      <td>1.690137</td>\n",
       "    </tr>\n",
       "    <tr>\n",
       "      <th>6</th>\n",
       "      <td>0.489822</td>\n",
       "      <td>0.328239</td>\n",
       "      <td>-0.548912</td>\n",
       "      <td>-0.595081</td>\n",
       "      <td>-0.525831</td>\n",
       "      <td>-0.756661</td>\n",
       "      <td>-1.125987</td>\n",
       "      <td>-0.710496</td>\n",
       "      <td>-0.271917</td>\n",
       "    </tr>\n",
       "  </tbody>\n",
       "</table>\n",
       "</div>"
      ],
      "text/plain": [
       "          0         1         2         3         4         5         6  \\\n",
       "0 -2.372470 -1.056740 -1.472231 -0.848992 -1.056740 -0.687411 -0.664327   \n",
       "1  0.351323  0.328239  0.097409  0.189743 -0.318082 -0.364251  0.051243   \n",
       "2 -2.534050 -1.887726 -1.564565 -1.703061 -1.726146 -0.918241 -0.225752   \n",
       "3 -0.364251 -0.318082 -0.271917 -0.225752 -0.595081 -0.571996 -0.225752   \n",
       "4  2.036381  2.290292  2.151796  1.851717  1.159227  1.505472  1.505472   \n",
       "5  0.720652  0.743733  0.974563  2.336461  1.436222  1.759386  1.736302   \n",
       "6  0.489822  0.328239 -0.548912 -0.595081 -0.525831 -0.756661 -1.125987   \n",
       "\n",
       "          7         8  \n",
       "0 -1.241402 -0.825911  \n",
       "1  0.651402  0.374407  \n",
       "2  0.005078 -0.179586  \n",
       "3  0.028163 -0.133421  \n",
       "4  0.605237  0.028163  \n",
       "5  1.436222  1.690137  \n",
       "6 -0.710496 -0.271917  "
      ]
     },
     "execution_count": 27,
     "metadata": {},
     "output_type": "execute_result"
    }
   ],
   "source": [
    "train_inputs = train[:,:9]\n",
    "\n",
    "\n",
    "pd.DataFrame(train_inputs)"
   ]
  },
  {
   "cell_type": "code",
   "execution_count": 28,
   "id": "64e0e76d",
   "metadata": {},
   "outputs": [
    {
     "data": {
      "text/plain": [
       "array([[-2.37246981, -1.05674046, -1.47223135, -0.8489915 , -1.05674046,\n",
       "        -0.68741132, -0.66432693, -1.24140151, -0.82591063],\n",
       "       [ 0.35132293,  0.32823854,  0.0974087 ,  0.18974275, -0.31808218,\n",
       "        -0.36425096,  0.05124344,  0.65140242,  0.37440732],\n",
       "       [-2.53404999, -1.88772575, -1.56456539, -1.70306118, -1.72614557,\n",
       "        -0.91824115, -0.22575165,  0.00507818, -0.17958639],\n",
       "       [-0.36425096, -0.31808218, -0.27191692, -0.22575165, -0.5950808 ,\n",
       "        -0.5719964 , -0.22575165,  0.02816257, -0.13342113],\n",
       "       [ 2.03638142,  2.29029212,  2.15179633,  1.85171685,  1.15922735,\n",
       "         1.5054721 ,  1.5054721 ,  0.60523715,  0.02816257],\n",
       "       [ 0.72065207,  0.74373294,  0.97456277,  2.3364609 ,  1.43622244,\n",
       "         1.75938632,  1.73630193,  1.43622244,  1.69013667],\n",
       "       [ 0.48982224,  0.32823854, -0.54891201, -0.5950808 , -0.52583114,\n",
       "        -0.75666098, -1.1259866 , -0.71049571, -0.27191692]])"
      ]
     },
     "execution_count": 28,
     "metadata": {},
     "output_type": "execute_result"
    }
   ],
   "source": [
    "train_inputs"
   ]
  },
  {
   "cell_type": "code",
   "execution_count": 29,
   "id": "5b0dfd42",
   "metadata": {},
   "outputs": [
    {
     "data": {
      "text/plain": [
       "(7, 9)"
      ]
     },
     "execution_count": 29,
     "metadata": {},
     "output_type": "execute_result"
    }
   ],
   "source": [
    "train_inputs.shape "
   ]
  },
  {
   "cell_type": "code",
   "execution_count": 30,
   "id": "39a558c6",
   "metadata": {},
   "outputs": [
    {
     "data": {
      "text/plain": [
       "(7, 9, 1)"
      ]
     },
     "execution_count": 30,
     "metadata": {},
     "output_type": "execute_result"
    }
   ],
   "source": [
    "#Create an additional dimension for train\n",
    "\n",
    "train_x = train_inputs[:,:,np.newaxis]\n",
    "\n",
    "train_x.shape "
   ]
  },
  {
   "cell_type": "code",
   "execution_count": 31,
   "id": "4d369487",
   "metadata": {},
   "outputs": [
    {
     "data": {
      "text/plain": [
       "array([[[-2.37246981],\n",
       "        [-1.05674046],\n",
       "        [-1.47223135],\n",
       "        [-0.8489915 ],\n",
       "        [-1.05674046],\n",
       "        [-0.68741132],\n",
       "        [-0.66432693],\n",
       "        [-1.24140151],\n",
       "        [-0.82591063]],\n",
       "\n",
       "       [[ 0.35132293],\n",
       "        [ 0.32823854],\n",
       "        [ 0.0974087 ],\n",
       "        [ 0.18974275],\n",
       "        [-0.31808218],\n",
       "        [-0.36425096],\n",
       "        [ 0.05124344],\n",
       "        [ 0.65140242],\n",
       "        [ 0.37440732]],\n",
       "\n",
       "       [[-2.53404999],\n",
       "        [-1.88772575],\n",
       "        [-1.56456539],\n",
       "        [-1.70306118],\n",
       "        [-1.72614557],\n",
       "        [-0.91824115],\n",
       "        [-0.22575165],\n",
       "        [ 0.00507818],\n",
       "        [-0.17958639]],\n",
       "\n",
       "       [[-0.36425096],\n",
       "        [-0.31808218],\n",
       "        [-0.27191692],\n",
       "        [-0.22575165],\n",
       "        [-0.5950808 ],\n",
       "        [-0.5719964 ],\n",
       "        [-0.22575165],\n",
       "        [ 0.02816257],\n",
       "        [-0.13342113]],\n",
       "\n",
       "       [[ 2.03638142],\n",
       "        [ 2.29029212],\n",
       "        [ 2.15179633],\n",
       "        [ 1.85171685],\n",
       "        [ 1.15922735],\n",
       "        [ 1.5054721 ],\n",
       "        [ 1.5054721 ],\n",
       "        [ 0.60523715],\n",
       "        [ 0.02816257]],\n",
       "\n",
       "       [[ 0.72065207],\n",
       "        [ 0.74373294],\n",
       "        [ 0.97456277],\n",
       "        [ 2.3364609 ],\n",
       "        [ 1.43622244],\n",
       "        [ 1.75938632],\n",
       "        [ 1.73630193],\n",
       "        [ 1.43622244],\n",
       "        [ 1.69013667]],\n",
       "\n",
       "       [[ 0.48982224],\n",
       "        [ 0.32823854],\n",
       "        [-0.54891201],\n",
       "        [-0.5950808 ],\n",
       "        [-0.52583114],\n",
       "        [-0.75666098],\n",
       "        [-1.1259866 ],\n",
       "        [-0.71049571],\n",
       "        [-0.27191692]]])"
      ]
     },
     "execution_count": 31,
     "metadata": {},
     "output_type": "execute_result"
    }
   ],
   "source": [
    "train_x"
   ]
  },
  {
   "cell_type": "markdown",
   "id": "bf59dcac",
   "metadata": {},
   "source": [
    "### set the target"
   ]
  },
  {
   "cell_type": "code",
   "execution_count": 32,
   "id": "72f810e8",
   "metadata": {},
   "outputs": [
    {
     "data": {
      "text/html": [
       "<div>\n",
       "<style scoped>\n",
       "    .dataframe tbody tr th:only-of-type {\n",
       "        vertical-align: middle;\n",
       "    }\n",
       "\n",
       "    .dataframe tbody tr th {\n",
       "        vertical-align: top;\n",
       "    }\n",
       "\n",
       "    .dataframe thead th {\n",
       "        text-align: right;\n",
       "    }\n",
       "</style>\n",
       "<table border=\"1\" class=\"dataframe\">\n",
       "  <thead>\n",
       "    <tr style=\"text-align: right;\">\n",
       "      <th></th>\n",
       "      <th>9</th>\n",
       "    </tr>\n",
       "  </thead>\n",
       "  <tbody>\n",
       "    <tr>\n",
       "      <th>0</th>\n",
       "      <td>-0.802826</td>\n",
       "    </tr>\n",
       "    <tr>\n",
       "      <th>1</th>\n",
       "      <td>0.974563</td>\n",
       "    </tr>\n",
       "    <tr>\n",
       "      <th>2</th>\n",
       "      <td>0.282073</td>\n",
       "    </tr>\n",
       "    <tr>\n",
       "      <th>3</th>\n",
       "      <td>-0.110337</td>\n",
       "    </tr>\n",
       "    <tr>\n",
       "      <th>4</th>\n",
       "      <td>-0.018006</td>\n",
       "    </tr>\n",
       "    <tr>\n",
       "      <th>5</th>\n",
       "      <td>2.197962</td>\n",
       "    </tr>\n",
       "    <tr>\n",
       "      <th>6</th>\n",
       "      <td>-0.133421</td>\n",
       "    </tr>\n",
       "  </tbody>\n",
       "</table>\n",
       "</div>"
      ],
      "text/plain": [
       "          9\n",
       "0 -0.802826\n",
       "1  0.974563\n",
       "2  0.282073\n",
       "3 -0.110337\n",
       "4 -0.018006\n",
       "5  2.197962\n",
       "6 -0.133421"
      ]
     },
     "execution_count": 32,
     "metadata": {},
     "output_type": "execute_result"
    }
   ],
   "source": [
    "train_target = train[:,-1]\n",
    "\n",
    "\n",
    "pd.DataFrame(train_target, columns=['9'])"
   ]
  },
  {
   "cell_type": "code",
   "execution_count": 33,
   "id": "7fa5cb25",
   "metadata": {},
   "outputs": [
    {
     "data": {
      "text/plain": [
       "(3, 10)"
      ]
     },
     "execution_count": 33,
     "metadata": {},
     "output_type": "execute_result"
    }
   ],
   "source": [
    "test.shape"
   ]
  },
  {
   "cell_type": "code",
   "execution_count": 34,
   "id": "5f1bd618",
   "metadata": {},
   "outputs": [],
   "source": [
    "# The first 9 columns (from 0 to 8) are inputs\n",
    "\n",
    "test_inputs = test[:,:9]"
   ]
  },
  {
   "cell_type": "code",
   "execution_count": 35,
   "id": "9114567a",
   "metadata": {},
   "outputs": [
    {
     "data": {
      "text/plain": [
       "(3, 9, 1)"
      ]
     },
     "execution_count": 35,
     "metadata": {},
     "output_type": "execute_result"
    }
   ],
   "source": [
    "#Create an additional dimension for test\n",
    "\n",
    "test_x = test_inputs[...,np.newaxis]\n",
    "\n",
    "test_x.shape "
   ]
  },
  {
   "cell_type": "code",
   "execution_count": 36,
   "id": "add29efd",
   "metadata": {},
   "outputs": [
    {
     "data": {
      "text/html": [
       "<div>\n",
       "<style scoped>\n",
       "    .dataframe tbody tr th:only-of-type {\n",
       "        vertical-align: middle;\n",
       "    }\n",
       "\n",
       "    .dataframe tbody tr th {\n",
       "        vertical-align: top;\n",
       "    }\n",
       "\n",
       "    .dataframe thead th {\n",
       "        text-align: right;\n",
       "    }\n",
       "</style>\n",
       "<table border=\"1\" class=\"dataframe\">\n",
       "  <thead>\n",
       "    <tr style=\"text-align: right;\">\n",
       "      <th></th>\n",
       "      <th>9</th>\n",
       "    </tr>\n",
       "  </thead>\n",
       "  <tbody>\n",
       "    <tr>\n",
       "      <th>0</th>\n",
       "      <td>-0.618162</td>\n",
       "    </tr>\n",
       "    <tr>\n",
       "      <th>1</th>\n",
       "      <td>-1.564565</td>\n",
       "    </tr>\n",
       "    <tr>\n",
       "      <th>2</th>\n",
       "      <td>0.951482</td>\n",
       "    </tr>\n",
       "  </tbody>\n",
       "</table>\n",
       "</div>"
      ],
      "text/plain": [
       "          9\n",
       "0 -0.618162\n",
       "1 -1.564565\n",
       "2  0.951482"
      ]
     },
     "execution_count": 36,
     "metadata": {},
     "output_type": "execute_result"
    }
   ],
   "source": [
    "# The last column (9) is TARGET\n",
    "\n",
    "test_target = test[:,-1]\n",
    "\n",
    "\n",
    "pd.DataFrame(test_target, columns=['9'])"
   ]
  },
  {
   "cell_type": "markdown",
   "id": "a05a8046",
   "metadata": {},
   "source": [
    "## A normal (cross-sectional) NN"
   ]
  },
  {
   "cell_type": "code",
   "execution_count": 37,
   "id": "5b7d33f1",
   "metadata": {},
   "outputs": [
    {
     "name": "stdout",
     "output_type": "stream",
     "text": [
      "Epoch 1/100\n",
      "1/1 [==============================] - 1s 836ms/step - loss: 1.0101\n",
      "Epoch 2/100\n",
      "1/1 [==============================] - 0s 12ms/step - loss: 0.9755\n",
      "Epoch 3/100\n",
      "1/1 [==============================] - 0s 15ms/step - loss: 0.9423\n",
      "Epoch 4/100\n",
      "1/1 [==============================] - 0s 21ms/step - loss: 0.9104\n",
      "Epoch 5/100\n",
      "1/1 [==============================] - 0s 25ms/step - loss: 0.8798\n",
      "Epoch 6/100\n",
      "1/1 [==============================] - 0s 20ms/step - loss: 0.8513\n",
      "Epoch 7/100\n",
      "1/1 [==============================] - 0s 17ms/step - loss: 0.8247\n",
      "Epoch 8/100\n",
      "1/1 [==============================] - 0s 14ms/step - loss: 0.7991\n",
      "Epoch 9/100\n",
      "1/1 [==============================] - 0s 10ms/step - loss: 0.7740\n",
      "Epoch 10/100\n",
      "1/1 [==============================] - 0s 21ms/step - loss: 0.7501\n",
      "Epoch 11/100\n",
      "1/1 [==============================] - 0s 29ms/step - loss: 0.7273\n",
      "Epoch 12/100\n",
      "1/1 [==============================] - 0s 16ms/step - loss: 0.7056\n",
      "Epoch 13/100\n",
      "1/1 [==============================] - 0s 17ms/step - loss: 0.6849\n",
      "Epoch 14/100\n",
      "1/1 [==============================] - 0s 11ms/step - loss: 0.6653\n",
      "Epoch 15/100\n",
      "1/1 [==============================] - 0s 16ms/step - loss: 0.6466\n",
      "Epoch 16/100\n",
      "1/1 [==============================] - 0s 24ms/step - loss: 0.6287\n",
      "Epoch 17/100\n",
      "1/1 [==============================] - 0s 21ms/step - loss: 0.6117\n",
      "Epoch 18/100\n",
      "1/1 [==============================] - 0s 19ms/step - loss: 0.5954\n",
      "Epoch 19/100\n",
      "1/1 [==============================] - 0s 13ms/step - loss: 0.5797\n",
      "Epoch 20/100\n",
      "1/1 [==============================] - 0s 0s/step - loss: 0.5647\n",
      "Epoch 21/100\n",
      "1/1 [==============================] - 0s 8ms/step - loss: 0.5501\n",
      "Epoch 22/100\n",
      "1/1 [==============================] - 0s 9ms/step - loss: 0.5360\n",
      "Epoch 23/100\n",
      "1/1 [==============================] - 0s 8ms/step - loss: 0.5229\n",
      "Epoch 24/100\n",
      "1/1 [==============================] - 0s 10ms/step - loss: 0.5103\n",
      "Epoch 25/100\n",
      "1/1 [==============================] - 0s 0s/step - loss: 0.4979\n",
      "Epoch 26/100\n",
      "1/1 [==============================] - 0s 15ms/step - loss: 0.4858\n",
      "Epoch 27/100\n",
      "1/1 [==============================] - 0s 16ms/step - loss: 0.4738\n",
      "Epoch 28/100\n",
      "1/1 [==============================] - 0s 14ms/step - loss: 0.4621\n",
      "Epoch 29/100\n",
      "1/1 [==============================] - 0s 15ms/step - loss: 0.4506\n",
      "Epoch 30/100\n",
      "1/1 [==============================] - 0s 12ms/step - loss: 0.4392\n",
      "Epoch 31/100\n",
      "1/1 [==============================] - 0s 8ms/step - loss: 0.4280\n",
      "Epoch 32/100\n",
      "1/1 [==============================] - 0s 7ms/step - loss: 0.4170\n",
      "Epoch 33/100\n",
      "1/1 [==============================] - 0s 9ms/step - loss: 0.4062\n",
      "Epoch 34/100\n",
      "1/1 [==============================] - 0s 16ms/step - loss: 0.3955\n",
      "Epoch 35/100\n",
      "1/1 [==============================] - 0s 14ms/step - loss: 0.3850\n",
      "Epoch 36/100\n",
      "1/1 [==============================] - 0s 16ms/step - loss: 0.3746\n",
      "Epoch 37/100\n",
      "1/1 [==============================] - 0s 11ms/step - loss: 0.3645\n",
      "Epoch 38/100\n",
      "1/1 [==============================] - 0s 7ms/step - loss: 0.3544\n",
      "Epoch 39/100\n",
      "1/1 [==============================] - 0s 7ms/step - loss: 0.3442\n",
      "Epoch 40/100\n",
      "1/1 [==============================] - 0s 10ms/step - loss: 0.3339\n",
      "Epoch 41/100\n",
      "1/1 [==============================] - 0s 9ms/step - loss: 0.3237\n",
      "Epoch 42/100\n",
      "1/1 [==============================] - 0s 8ms/step - loss: 0.3136\n",
      "Epoch 43/100\n",
      "1/1 [==============================] - 0s 1ms/step - loss: 0.3036\n",
      "Epoch 44/100\n",
      "1/1 [==============================] - 0s 2ms/step - loss: 0.2937\n",
      "Epoch 45/100\n",
      "1/1 [==============================] - 0s 2ms/step - loss: 0.2840\n",
      "Epoch 46/100\n",
      "1/1 [==============================] - 0s 6ms/step - loss: 0.2745\n",
      "Epoch 47/100\n",
      "1/1 [==============================] - 0s 0s/step - loss: 0.2651\n",
      "Epoch 48/100\n",
      "1/1 [==============================] - 0s 20ms/step - loss: 0.2559\n",
      "Epoch 49/100\n",
      "1/1 [==============================] - 0s 16ms/step - loss: 0.2469\n",
      "Epoch 50/100\n",
      "1/1 [==============================] - 0s 6ms/step - loss: 0.2381\n",
      "Epoch 51/100\n",
      "1/1 [==============================] - 0s 16ms/step - loss: 0.2296\n",
      "Epoch 52/100\n",
      "1/1 [==============================] - 0s 2ms/step - loss: 0.2212\n",
      "Epoch 53/100\n",
      "1/1 [==============================] - 0s 8ms/step - loss: 0.2131\n",
      "Epoch 54/100\n",
      "1/1 [==============================] - 0s 3ms/step - loss: 0.2052\n",
      "Epoch 55/100\n",
      "1/1 [==============================] - 0s 7ms/step - loss: 0.1975\n",
      "Epoch 56/100\n",
      "1/1 [==============================] - 0s 7ms/step - loss: 0.1901\n",
      "Epoch 57/100\n",
      "1/1 [==============================] - 0s 7ms/step - loss: 0.1830\n",
      "Epoch 58/100\n",
      "1/1 [==============================] - 0s 24ms/step - loss: 0.1761\n",
      "Epoch 59/100\n",
      "1/1 [==============================] - 0s 15ms/step - loss: 0.1694\n",
      "Epoch 60/100\n",
      "1/1 [==============================] - 0s 9ms/step - loss: 0.1628\n",
      "Epoch 61/100\n",
      "1/1 [==============================] - 0s 20ms/step - loss: 0.1565\n",
      "Epoch 62/100\n",
      "1/1 [==============================] - 0s 17ms/step - loss: 0.1504\n",
      "Epoch 63/100\n",
      "1/1 [==============================] - 0s 13ms/step - loss: 0.1444\n",
      "Epoch 64/100\n",
      "1/1 [==============================] - 0s 8ms/step - loss: 0.1387\n",
      "Epoch 65/100\n",
      "1/1 [==============================] - 0s 14ms/step - loss: 0.1332\n",
      "Epoch 66/100\n",
      "1/1 [==============================] - 0s 8ms/step - loss: 0.1278\n",
      "Epoch 67/100\n",
      "1/1 [==============================] - 0s 8ms/step - loss: 0.1227\n",
      "Epoch 68/100\n",
      "1/1 [==============================] - 0s 10ms/step - loss: 0.1177\n",
      "Epoch 69/100\n",
      "1/1 [==============================] - 0s 6ms/step - loss: 0.1129\n",
      "Epoch 70/100\n",
      "1/1 [==============================] - 0s 8ms/step - loss: 0.1083\n",
      "Epoch 71/100\n",
      "1/1 [==============================] - 0s 0s/step - loss: 0.1039\n",
      "Epoch 72/100\n",
      "1/1 [==============================] - 0s 3ms/step - loss: 0.0998\n",
      "Epoch 73/100\n",
      "1/1 [==============================] - 0s 8ms/step - loss: 0.0957\n",
      "Epoch 74/100\n",
      "1/1 [==============================] - 0s 9ms/step - loss: 0.0919\n",
      "Epoch 75/100\n",
      "1/1 [==============================] - 0s 6ms/step - loss: 0.0882\n",
      "Epoch 76/100\n",
      "1/1 [==============================] - 0s 6ms/step - loss: 0.0846\n",
      "Epoch 77/100\n",
      "1/1 [==============================] - 0s 10ms/step - loss: 0.0812\n",
      "Epoch 78/100\n",
      "1/1 [==============================] - 0s 7ms/step - loss: 0.0779\n",
      "Epoch 79/100\n",
      "1/1 [==============================] - 0s 8ms/step - loss: 0.0748\n",
      "Epoch 80/100\n",
      "1/1 [==============================] - 0s 6ms/step - loss: 0.0718\n",
      "Epoch 81/100\n",
      "1/1 [==============================] - 0s 11ms/step - loss: 0.0690\n",
      "Epoch 82/100\n",
      "1/1 [==============================] - 0s 8ms/step - loss: 0.0665\n",
      "Epoch 83/100\n",
      "1/1 [==============================] - 0s 4ms/step - loss: 0.0640\n",
      "Epoch 84/100\n",
      "1/1 [==============================] - 0s 3ms/step - loss: 0.0615\n",
      "Epoch 85/100\n",
      "1/1 [==============================] - 0s 8ms/step - loss: 0.0592\n",
      "Epoch 86/100\n",
      "1/1 [==============================] - 0s 9ms/step - loss: 0.0570\n",
      "Epoch 87/100\n",
      "1/1 [==============================] - 0s 8ms/step - loss: 0.0548\n",
      "Epoch 88/100\n",
      "1/1 [==============================] - 0s 7ms/step - loss: 0.0528\n",
      "Epoch 89/100\n",
      "1/1 [==============================] - 0s 5ms/step - loss: 0.0508\n",
      "Epoch 90/100\n",
      "1/1 [==============================] - 0s 13ms/step - loss: 0.0488\n",
      "Epoch 91/100\n",
      "1/1 [==============================] - 0s 12ms/step - loss: 0.0470\n",
      "Epoch 92/100\n",
      "1/1 [==============================] - 0s 18ms/step - loss: 0.0452\n",
      "Epoch 93/100\n",
      "1/1 [==============================] - 0s 16ms/step - loss: 0.0435\n",
      "Epoch 94/100\n",
      "1/1 [==============================] - 0s 18ms/step - loss: 0.0419\n",
      "Epoch 95/100\n",
      "1/1 [==============================] - 0s 5ms/step - loss: 0.0404\n",
      "Epoch 96/100\n",
      "1/1 [==============================] - 0s 7ms/step - loss: 0.0389\n",
      "Epoch 97/100\n",
      "1/1 [==============================] - 0s 9ms/step - loss: 0.0375\n",
      "Epoch 98/100\n",
      "1/1 [==============================] - 0s 2ms/step - loss: 0.0362\n",
      "Epoch 99/100\n",
      "1/1 [==============================] - 0s 3ms/step - loss: 0.0349\n",
      "Epoch 100/100\n",
      "1/1 [==============================] - 0s 5ms/step - loss: 0.0337\n"
     ]
    }
   ],
   "source": [
    "model = keras.models.Sequential([\n",
    "    \n",
    "    keras.layers.Flatten(input_shape=[9, 1]),\n",
    "    keras.layers.Dense(23, activation='relu'),\n",
    "    keras.layers.Dense(1, activation=None)\n",
    "    \n",
    "])\n",
    "\n",
    "model.compile(loss=\"mse\", optimizer='Adam')\n",
    "\n",
    "history = model.fit(train_x, train_target, epochs=100)"
   ]
  },
  {
   "cell_type": "code",
   "execution_count": 38,
   "id": "b410e7c7",
   "metadata": {},
   "outputs": [
    {
     "name": "stdout",
     "output_type": "stream",
     "text": [
      "1/1 [==============================] - 0s 142ms/step\n"
     ]
    }
   ],
   "source": [
    "#Predict:\n",
    "y_pred = model.predict(test_x)"
   ]
  },
  {
   "cell_type": "code",
   "execution_count": 39,
   "id": "a294f3a2",
   "metadata": {},
   "outputs": [],
   "source": [
    "# Remember, these are standardized values. \n",
    "\n",
    "comparison = pd.DataFrame()\n",
    "\n",
    "comparison['actual'] = scaler.inverse_transform([test_target]).flatten()\n",
    "comparison['predicted'] = scaler.inverse_transform(y_pred).flatten()"
   ]
  },
  {
   "cell_type": "code",
   "execution_count": 40,
   "id": "99b367d9",
   "metadata": {},
   "outputs": [
    {
     "data": {
      "text/html": [
       "<div>\n",
       "<style scoped>\n",
       "    .dataframe tbody tr th:only-of-type {\n",
       "        vertical-align: middle;\n",
       "    }\n",
       "\n",
       "    .dataframe tbody tr th {\n",
       "        vertical-align: top;\n",
       "    }\n",
       "\n",
       "    .dataframe thead th {\n",
       "        text-align: right;\n",
       "    }\n",
       "</style>\n",
       "<table border=\"1\" class=\"dataframe\">\n",
       "  <thead>\n",
       "    <tr style=\"text-align: right;\">\n",
       "      <th></th>\n",
       "      <th>actual</th>\n",
       "      <th>predicted</th>\n",
       "    </tr>\n",
       "  </thead>\n",
       "  <tbody>\n",
       "    <tr>\n",
       "      <th>0</th>\n",
       "      <td>77.150002</td>\n",
       "      <td>78.454422</td>\n",
       "    </tr>\n",
       "    <tr>\n",
       "      <th>1</th>\n",
       "      <td>75.099998</td>\n",
       "      <td>76.959167</td>\n",
       "    </tr>\n",
       "    <tr>\n",
       "      <th>2</th>\n",
       "      <td>80.550003</td>\n",
       "      <td>80.193886</td>\n",
       "    </tr>\n",
       "  </tbody>\n",
       "</table>\n",
       "</div>"
      ],
      "text/plain": [
       "      actual  predicted\n",
       "0  77.150002  78.454422\n",
       "1  75.099998  76.959167\n",
       "2  80.550003  80.193886"
      ]
     },
     "execution_count": 40,
     "metadata": {},
     "output_type": "execute_result"
    }
   ],
   "source": [
    "comparison"
   ]
  },
  {
   "cell_type": "code",
   "execution_count": 41,
   "id": "04224974",
   "metadata": {},
   "outputs": [
    {
     "data": {
      "text/plain": [
       "1.7616138848437306"
      ]
     },
     "execution_count": 41,
     "metadata": {},
     "output_type": "execute_result"
    }
   ],
   "source": [
    "mean_squared_error(comparison['actual'], comparison['predicted'])"
   ]
  },
  {
   "cell_type": "code",
   "execution_count": 42,
   "id": "bc2bc306",
   "metadata": {},
   "outputs": [
    {
     "data": {
      "image/png": "[encoded data removed]",
      "text/plain": [
       "<Figure size 640x480 with 1 Axes>"
      ]
     },
     "metadata": {},
     "output_type": "display_data"
    }
   ],
   "source": [
    "plt.plot(comparison['actual'], label = 'actual')\n",
    "plt.plot(comparison['predicted'], label = 'predicted')\n",
    "\n",
    "plt.legend()\n",
    "\n",
    "plt.show()"
   ]
  },
  {
   "cell_type": "markdown",
   "id": "7229382b",
   "metadata": {},
   "source": [
    "## Simple RNN"
   ]
  },
  {
   "cell_type": "code",
   "execution_count": 43,
   "id": "24bc03ea",
   "metadata": {},
   "outputs": [],
   "source": [
    "model = keras.models.Sequential([\n",
    "    keras.layers.SimpleRNN(32, activation='relu', input_shape=[9, 1]),\n",
    "    keras.layers.Dense(1, activation=None)\n",
    "])"
   ]
  },
  {
   "cell_type": "code",
   "execution_count": 44,
   "id": "acda8488",
   "metadata": {},
   "outputs": [
    {
     "name": "stdout",
     "output_type": "stream",
     "text": [
      "Epoch 1/30\n",
      "1/1 [==============================] - 1s 1s/step - loss: 1.0074\n",
      "Epoch 2/30\n",
      "1/1 [==============================] - 0s 21ms/step - loss: 0.9805\n",
      "Epoch 3/30\n",
      "1/1 [==============================] - 0s 16ms/step - loss: 0.9549\n",
      "Epoch 4/30\n",
      "1/1 [==============================] - 0s 16ms/step - loss: 0.9307\n",
      "Epoch 5/30\n",
      "1/1 [==============================] - 0s 22ms/step - loss: 0.9089\n",
      "Epoch 6/30\n",
      "1/1 [==============================] - 0s 28ms/step - loss: 0.8883\n",
      "Epoch 7/30\n",
      "1/1 [==============================] - 0s 27ms/step - loss: 0.8685\n",
      "Epoch 8/30\n",
      "1/1 [==============================] - 0s 17ms/step - loss: 0.8494\n",
      "Epoch 9/30\n",
      "1/1 [==============================] - 0s 23ms/step - loss: 0.8308\n",
      "Epoch 10/30\n",
      "1/1 [==============================] - 0s 15ms/step - loss: 0.8124\n",
      "Epoch 11/30\n",
      "1/1 [==============================] - 0s 18ms/step - loss: 0.7946\n",
      "Epoch 12/30\n",
      "1/1 [==============================] - 0s 23ms/step - loss: 0.7773\n",
      "Epoch 13/30\n",
      "1/1 [==============================] - 0s 26ms/step - loss: 0.7608\n",
      "Epoch 14/30\n",
      "1/1 [==============================] - 0s 23ms/step - loss: 0.7452\n",
      "Epoch 15/30\n",
      "1/1 [==============================] - 0s 18ms/step - loss: 0.7298\n",
      "Epoch 16/30\n",
      "1/1 [==============================] - 0s 26ms/step - loss: 0.7145\n",
      "Epoch 17/30\n",
      "1/1 [==============================] - 0s 24ms/step - loss: 0.6993\n",
      "Epoch 18/30\n",
      "1/1 [==============================] - 0s 15ms/step - loss: 0.6844\n",
      "Epoch 19/30\n",
      "1/1 [==============================] - 0s 24ms/step - loss: 0.6699\n",
      "Epoch 20/30\n",
      "1/1 [==============================] - 0s 25ms/step - loss: 0.6557\n",
      "Epoch 21/30\n",
      "1/1 [==============================] - 0s 27ms/step - loss: 0.6416\n",
      "Epoch 22/30\n",
      "1/1 [==============================] - 0s 15ms/step - loss: 0.6277\n",
      "Epoch 23/30\n",
      "1/1 [==============================] - 0s 17ms/step - loss: 0.6140\n",
      "Epoch 24/30\n",
      "1/1 [==============================] - 0s 11ms/step - loss: 0.6005\n",
      "Epoch 25/30\n",
      "1/1 [==============================] - 0s 22ms/step - loss: 0.5873\n",
      "Epoch 26/30\n",
      "1/1 [==============================] - 0s 16ms/step - loss: 0.5743\n",
      "Epoch 27/30\n",
      "1/1 [==============================] - 0s 21ms/step - loss: 0.5617\n",
      "Epoch 28/30\n",
      "1/1 [==============================] - 0s 29ms/step - loss: 0.5491\n",
      "Epoch 29/30\n",
      "1/1 [==============================] - 0s 9ms/step - loss: 0.5369\n",
      "Epoch 30/30\n",
      "1/1 [==============================] - 0s 12ms/step - loss: 0.5245\n"
     ]
    }
   ],
   "source": [
    "np.random.seed(42)\n",
    "tf.random.set_seed(42)\n",
    "\n",
    "model.compile(loss=\"mse\", optimizer='Adam')\n",
    "\n",
    "history = model.fit(train_x, train_target, epochs=30)"
   ]
  },
  {
   "cell_type": "code",
   "execution_count": 45,
   "id": "0fd98e83",
   "metadata": {},
   "outputs": [
    {
     "name": "stdout",
     "output_type": "stream",
     "text": [
      "1/1 [==============================] - 0s 205ms/step\n"
     ]
    }
   ],
   "source": [
    "#Predict:\n",
    "y_pred = model.predict(test_x)"
   ]
  },
  {
   "cell_type": "code",
   "execution_count": 46,
   "id": "6f7ce470",
   "metadata": {},
   "outputs": [],
   "source": [
    "#Remember, these are standardized values. \n",
    "\n",
    "comparison = pd.DataFrame()\n",
    "\n",
    "comparison['actual'] = scaler.inverse_transform([test_target]).flatten()\n",
    "comparison['predicted'] = scaler.inverse_transform(y_pred).flatten()"
   ]
  },
  {
   "cell_type": "code",
   "execution_count": 47,
   "id": "5147816f",
   "metadata": {},
   "outputs": [
    {
     "data": {
      "text/html": [
       "<div>\n",
       "<style scoped>\n",
       "    .dataframe tbody tr th:only-of-type {\n",
       "        vertical-align: middle;\n",
       "    }\n",
       "\n",
       "    .dataframe tbody tr th {\n",
       "        vertical-align: top;\n",
       "    }\n",
       "\n",
       "    .dataframe thead th {\n",
       "        text-align: right;\n",
       "    }\n",
       "</style>\n",
       "<table border=\"1\" class=\"dataframe\">\n",
       "  <thead>\n",
       "    <tr style=\"text-align: right;\">\n",
       "      <th></th>\n",
       "      <th>actual</th>\n",
       "      <th>predicted</th>\n",
       "    </tr>\n",
       "  </thead>\n",
       "  <tbody>\n",
       "    <tr>\n",
       "      <th>0</th>\n",
       "      <td>77.150002</td>\n",
       "      <td>78.090126</td>\n",
       "    </tr>\n",
       "    <tr>\n",
       "      <th>1</th>\n",
       "      <td>75.099998</td>\n",
       "      <td>77.737320</td>\n",
       "    </tr>\n",
       "    <tr>\n",
       "      <th>2</th>\n",
       "      <td>80.550003</td>\n",
       "      <td>78.946465</td>\n",
       "    </tr>\n",
       "  </tbody>\n",
       "</table>\n",
       "</div>"
      ],
      "text/plain": [
       "      actual  predicted\n",
       "0  77.150002  78.090126\n",
       "1  75.099998  77.737320\n",
       "2  80.550003  78.946465"
      ]
     },
     "execution_count": 47,
     "metadata": {},
     "output_type": "execute_result"
    }
   ],
   "source": [
    "comparison"
   ]
  },
  {
   "cell_type": "code",
   "execution_count": 48,
   "id": "735c5b33",
   "metadata": {},
   "outputs": [
    {
     "data": {
      "text/plain": [
       "3.470211469451897"
      ]
     },
     "execution_count": 48,
     "metadata": {},
     "output_type": "execute_result"
    }
   ],
   "source": [
    "mean_squared_error(comparison['actual'], comparison['predicted'])"
   ]
  },
  {
   "cell_type": "code",
   "execution_count": 49,
   "id": "92eb456e",
   "metadata": {},
   "outputs": [
    {
     "data": {
      "image/png": "[encoded data removed]",
      "text/plain": [
       "<Figure size 640x480 with 1 Axes>"
      ]
     },
     "metadata": {},
     "output_type": "display_data"
    }
   ],
   "source": [
    "plt.plot(comparison['actual'], label = 'actual')\n",
    "plt.plot(comparison['predicted'], label = 'predicted')\n",
    "\n",
    "plt.legend()\n",
    "\n",
    "plt.show()"
   ]
  },
  {
   "cell_type": "markdown",
   "id": "13969f38",
   "metadata": {},
   "source": [
    "### Simple RNN with more layers"
   ]
  },
  {
   "cell_type": "code",
   "execution_count": 50,
   "id": "b19a6589",
   "metadata": {},
   "outputs": [],
   "source": [
    "model = keras.models.Sequential([\n",
    "    keras.layers.SimpleRNN(32, activation='relu', return_sequences=True, input_shape=[9, 1]),\n",
    "    keras.layers.SimpleRNN(32, activation='relu', return_sequences=False),\n",
    "    keras.layers.Dense(1, activation=None)\n",
    "])"
   ]
  },
  {
   "cell_type": "code",
   "execution_count": 51,
   "id": "13765acd",
   "metadata": {},
   "outputs": [
    {
     "name": "stdout",
     "output_type": "stream",
     "text": [
      "Epoch 1/30\n",
      "1/1 [==============================] - 3s 3s/step - loss: 0.8741\n",
      "Epoch 2/30\n",
      "1/1 [==============================] - 0s 9ms/step - loss: 0.8366\n",
      "Epoch 3/30\n",
      "1/1 [==============================] - 0s 8ms/step - loss: 0.8031\n",
      "Epoch 4/30\n",
      "1/1 [==============================] - 0s 8ms/step - loss: 0.7766\n",
      "Epoch 5/30\n",
      "1/1 [==============================] - 0s 28ms/step - loss: 0.7514\n",
      "Epoch 6/30\n",
      "1/1 [==============================] - 0s 16ms/step - loss: 0.7269\n",
      "Epoch 7/30\n",
      "1/1 [==============================] - 0s 15ms/step - loss: 0.7010\n",
      "Epoch 8/30\n",
      "1/1 [==============================] - 0s 8ms/step - loss: 0.6771\n",
      "Epoch 9/30\n",
      "1/1 [==============================] - 0s 18ms/step - loss: 0.6558\n",
      "Epoch 10/30\n",
      "1/1 [==============================] - 0s 9ms/step - loss: 0.6329\n",
      "Epoch 11/30\n",
      "1/1 [==============================] - 0s 21ms/step - loss: 0.6110\n",
      "Epoch 12/30\n",
      "1/1 [==============================] - 0s 29ms/step - loss: 0.5906\n",
      "Epoch 13/30\n",
      "1/1 [==============================] - 0s 13ms/step - loss: 0.5704\n",
      "Epoch 14/30\n",
      "1/1 [==============================] - 0s 6ms/step - loss: 0.5499\n",
      "Epoch 15/30\n",
      "1/1 [==============================] - 0s 16ms/step - loss: 0.5300\n",
      "Epoch 16/30\n",
      "1/1 [==============================] - 0s 14ms/step - loss: 0.5087\n",
      "Epoch 17/30\n",
      "1/1 [==============================] - 0s 13ms/step - loss: 0.4865\n",
      "Epoch 18/30\n",
      "1/1 [==============================] - 0s 13ms/step - loss: 0.4631\n",
      "Epoch 19/30\n",
      "1/1 [==============================] - 0s 14ms/step - loss: 0.4393\n",
      "Epoch 20/30\n",
      "1/1 [==============================] - 0s 10ms/step - loss: 0.4164\n",
      "Epoch 21/30\n",
      "1/1 [==============================] - 0s 9ms/step - loss: 0.3923\n",
      "Epoch 22/30\n",
      "1/1 [==============================] - 0s 7ms/step - loss: 0.3682\n",
      "Epoch 23/30\n",
      "1/1 [==============================] - 0s 15ms/step - loss: 0.3443\n",
      "Epoch 24/30\n",
      "1/1 [==============================] - 0s 18ms/step - loss: 0.3232\n",
      "Epoch 25/30\n",
      "1/1 [==============================] - 0s 14ms/step - loss: 0.2987\n",
      "Epoch 26/30\n",
      "1/1 [==============================] - 0s 16ms/step - loss: 0.2755\n",
      "Epoch 27/30\n",
      "1/1 [==============================] - 0s 15ms/step - loss: 0.2535\n",
      "Epoch 28/30\n",
      "1/1 [==============================] - 0s 23ms/step - loss: 0.2327\n",
      "Epoch 29/30\n",
      "1/1 [==============================] - 0s 20ms/step - loss: 0.2109\n",
      "Epoch 30/30\n",
      "1/1 [==============================] - 0s 32ms/step - loss: 0.1898\n"
     ]
    }
   ],
   "source": [
    "np.random.seed(42)\n",
    "tf.random.set_seed(42)\n",
    "\n",
    "model.compile(loss=\"mse\", optimizer='Adam')\n",
    "\n",
    "history = model.fit(train_x, train_target, epochs=30)"
   ]
  },
  {
   "cell_type": "code",
   "execution_count": 52,
   "id": "82de2595",
   "metadata": {},
   "outputs": [
    {
     "name": "stdout",
     "output_type": "stream",
     "text": [
      "1/1 [==============================] - 0s 463ms/step\n"
     ]
    }
   ],
   "source": [
    "#Predict:\n",
    "y_pred = model.predict(test_x)"
   ]
  },
  {
   "cell_type": "code",
   "execution_count": 53,
   "id": "6d3b8fc9",
   "metadata": {},
   "outputs": [],
   "source": [
    "#Remember, these are standardized values. \n",
    "\n",
    "comparison = pd.DataFrame()\n",
    "\n",
    "comparison['actual'] = scaler.inverse_transform([test_target]).flatten()\n",
    "comparison['predicted'] = scaler.inverse_transform(y_pred).flatten()"
   ]
  },
  {
   "cell_type": "code",
   "execution_count": 54,
   "id": "63d5853d",
   "metadata": {},
   "outputs": [
    {
     "data": {
      "text/html": [
       "<div>\n",
       "<style scoped>\n",
       "    .dataframe tbody tr th:only-of-type {\n",
       "        vertical-align: middle;\n",
       "    }\n",
       "\n",
       "    .dataframe tbody tr th {\n",
       "        vertical-align: top;\n",
       "    }\n",
       "\n",
       "    .dataframe thead th {\n",
       "        text-align: right;\n",
       "    }\n",
       "</style>\n",
       "<table border=\"1\" class=\"dataframe\">\n",
       "  <thead>\n",
       "    <tr style=\"text-align: right;\">\n",
       "      <th></th>\n",
       "      <th>actual</th>\n",
       "      <th>predicted</th>\n",
       "    </tr>\n",
       "  </thead>\n",
       "  <tbody>\n",
       "    <tr>\n",
       "      <th>0</th>\n",
       "      <td>77.150002</td>\n",
       "      <td>78.617622</td>\n",
       "    </tr>\n",
       "    <tr>\n",
       "      <th>1</th>\n",
       "      <td>75.099998</td>\n",
       "      <td>78.250618</td>\n",
       "    </tr>\n",
       "    <tr>\n",
       "      <th>2</th>\n",
       "      <td>80.550003</td>\n",
       "      <td>79.059044</td>\n",
       "    </tr>\n",
       "  </tbody>\n",
       "</table>\n",
       "</div>"
      ],
      "text/plain": [
       "      actual  predicted\n",
       "0  77.150002  78.617622\n",
       "1  75.099998  78.250618\n",
       "2  80.550003  79.059044"
      ]
     },
     "execution_count": 54,
     "metadata": {},
     "output_type": "execute_result"
    }
   ],
   "source": [
    "comparison"
   ]
  },
  {
   "cell_type": "code",
   "execution_count": 55,
   "id": "f5856924",
   "metadata": {},
   "outputs": [
    {
     "data": {
      "text/plain": [
       "4.767757824719108"
      ]
     },
     "execution_count": 55,
     "metadata": {},
     "output_type": "execute_result"
    }
   ],
   "source": [
    "mean_squared_error(comparison['actual'], comparison['predicted'])"
   ]
  },
  {
   "cell_type": "code",
   "execution_count": 56,
   "id": "943fd270",
   "metadata": {},
   "outputs": [
    {
     "data": {
      "image/png": "[encoded data removed]",
      "text/plain": [
       "<Figure size 640x480 with 1 Axes>"
      ]
     },
     "metadata": {},
     "output_type": "display_data"
    }
   ],
   "source": [
    "plt.plot(comparison['actual'], label = 'actual')\n",
    "plt.plot(comparison['predicted'], label = 'predicted')\n",
    "\n",
    "plt.legend()\n",
    "\n",
    "plt.show()"
   ]
  },
  {
   "cell_type": "markdown",
   "id": "4817339b",
   "metadata": {},
   "source": [
    "### LSTM with one layer"
   ]
  },
  {
   "cell_type": "code",
   "execution_count": 57,
   "id": "a84d77c3",
   "metadata": {},
   "outputs": [],
   "source": [
    "model = keras.models.Sequential([\n",
    "    keras.layers.LSTM(32, activation='relu', input_shape=[9, 1]),\n",
    "    keras.layers.Dense(1, activation=None)\n",
    "])"
   ]
  },
  {
   "cell_type": "code",
   "execution_count": 58,
   "id": "3fd1c78a",
   "metadata": {},
   "outputs": [
    {
     "name": "stdout",
     "output_type": "stream",
     "text": [
      "Epoch 1/30\n",
      "1/1 [==============================] - 2s 2s/step - loss: 1.0393\n",
      "Epoch 2/30\n",
      "1/1 [==============================] - 0s 12ms/step - loss: 1.0181\n",
      "Epoch 3/30\n",
      "1/1 [==============================] - 0s 12ms/step - loss: 0.9974\n",
      "Epoch 4/30\n",
      "1/1 [==============================] - 0s 10ms/step - loss: 0.9770\n",
      "Epoch 5/30\n",
      "1/1 [==============================] - 0s 10ms/step - loss: 0.9571\n",
      "Epoch 6/30\n",
      "1/1 [==============================] - 0s 7ms/step - loss: 0.9377\n",
      "Epoch 7/30\n",
      "1/1 [==============================] - 0s 20ms/step - loss: 0.9187\n",
      "Epoch 8/30\n",
      "1/1 [==============================] - 0s 28ms/step - loss: 0.9002\n",
      "Epoch 9/30\n",
      "1/1 [==============================] - 0s 16ms/step - loss: 0.8821\n",
      "Epoch 10/30\n",
      "1/1 [==============================] - 0s 8ms/step - loss: 0.8645\n",
      "Epoch 11/30\n",
      "1/1 [==============================] - 0s 16ms/step - loss: 0.8473\n",
      "Epoch 12/30\n",
      "1/1 [==============================] - 0s 17ms/step - loss: 0.8305\n",
      "Epoch 13/30\n",
      "1/1 [==============================] - 0s 17ms/step - loss: 0.8141\n",
      "Epoch 14/30\n",
      "1/1 [==============================] - 0s 34ms/step - loss: 0.7981\n",
      "Epoch 15/30\n",
      "1/1 [==============================] - 0s 17ms/step - loss: 0.7825\n",
      "Epoch 16/30\n",
      "1/1 [==============================] - 0s 11ms/step - loss: 0.7672\n",
      "Epoch 17/30\n",
      "1/1 [==============================] - 0s 21ms/step - loss: 0.7522\n",
      "Epoch 18/30\n",
      "1/1 [==============================] - 0s 28ms/step - loss: 0.7375\n",
      "Epoch 19/30\n",
      "1/1 [==============================] - 0s 17ms/step - loss: 0.7229\n",
      "Epoch 20/30\n",
      "1/1 [==============================] - 0s 16ms/step - loss: 0.7086\n",
      "Epoch 21/30\n",
      "1/1 [==============================] - 0s 16ms/step - loss: 0.6946\n",
      "Epoch 22/30\n",
      "1/1 [==============================] - 0s 16ms/step - loss: 0.6807\n",
      "Epoch 23/30\n",
      "1/1 [==============================] - 0s 26ms/step - loss: 0.6670\n",
      "Epoch 24/30\n",
      "1/1 [==============================] - 0s 17ms/step - loss: 0.6535\n",
      "Epoch 25/30\n",
      "1/1 [==============================] - 0s 9ms/step - loss: 0.6402\n",
      "Epoch 26/30\n",
      "1/1 [==============================] - 0s 0s/step - loss: 0.6269\n",
      "Epoch 27/30\n",
      "1/1 [==============================] - 0s 7ms/step - loss: 0.6139\n",
      "Epoch 28/30\n",
      "1/1 [==============================] - 0s 24ms/step - loss: 0.6012\n",
      "Epoch 29/30\n",
      "1/1 [==============================] - 0s 16ms/step - loss: 0.5886\n",
      "Epoch 30/30\n",
      "1/1 [==============================] - 0s 21ms/step - loss: 0.5763\n"
     ]
    }
   ],
   "source": [
    "np.random.seed(42)\n",
    "tf.random.set_seed(42)\n",
    "\n",
    "model.compile(loss=\"mse\", optimizer='Adam')\n",
    "\n",
    "history = model.fit(train_x, train_target, epochs=30)"
   ]
  },
  {
   "cell_type": "code",
   "execution_count": 59,
   "id": "9fe6bcc8",
   "metadata": {},
   "outputs": [
    {
     "name": "stdout",
     "output_type": "stream",
     "text": [
      "1/1 [==============================] - 0s 244ms/step\n"
     ]
    }
   ],
   "source": [
    "#Predict:\n",
    "y_pred = model.predict(test_x)"
   ]
  },
  {
   "cell_type": "code",
   "execution_count": 60,
   "id": "ab8ec2f0",
   "metadata": {},
   "outputs": [],
   "source": [
    "#Remember, these are standardized values. \n",
    "\n",
    "comparison = pd.DataFrame()\n",
    "\n",
    "comparison['actual'] = scaler.inverse_transform([test_target]).flatten()\n",
    "comparison['predicted'] = scaler.inverse_transform(y_pred).flatten()"
   ]
  },
  {
   "cell_type": "code",
   "execution_count": 61,
   "id": "be5aa5ed",
   "metadata": {},
   "outputs": [
    {
     "data": {
      "text/plain": [
       "4.684581813150241"
      ]
     },
     "execution_count": 61,
     "metadata": {},
     "output_type": "execute_result"
    }
   ],
   "source": [
    "mean_squared_error(comparison['actual'], comparison['predicted'])"
   ]
  },
  {
   "cell_type": "code",
   "execution_count": 62,
   "id": "294368ed",
   "metadata": {},
   "outputs": [
    {
     "data": {
      "image/png": "[encoded data removed]",
      "text/plain": [
       "<Figure size 640x480 with 1 Axes>"
      ]
     },
     "metadata": {},
     "output_type": "display_data"
    }
   ],
   "source": [
    "plt.plot(comparison['actual'], label = 'actual')\n",
    "plt.plot(comparison['predicted'], label = 'predicted')\n",
    "\n",
    "plt.legend()\n",
    "\n",
    "plt.show()"
   ]
  },
  {
   "cell_type": "markdown",
   "id": "503403d6",
   "metadata": {},
   "source": [
    "### LSTM with more layers"
   ]
  },
  {
   "cell_type": "code",
   "execution_count": 63,
   "id": "ee63e66b",
   "metadata": {},
   "outputs": [],
   "source": [
    "model = keras.models.Sequential([\n",
    "    keras.layers.LSTM(32, activation='tanh', return_sequences=True, input_shape=[9, 1]),\n",
    "    keras.layers.LSTM(32, activation='tanh', return_sequences=False),\n",
    "    keras.layers.Dense(1, activation=None)\n",
    "])"
   ]
  },
  {
   "cell_type": "code",
   "execution_count": 64,
   "id": "68d587e8",
   "metadata": {},
   "outputs": [
    {
     "name": "stdout",
     "output_type": "stream",
     "text": [
      "Epoch 1/30\n",
      "1/1 [==============================] - 5s 5s/step - loss: 1.0052\n",
      "Epoch 2/30\n",
      "1/1 [==============================] - 0s 16ms/step - loss: 0.9537\n",
      "Epoch 3/30\n",
      "1/1 [==============================] - 0s 13ms/step - loss: 0.9055\n",
      "Epoch 4/30\n",
      "1/1 [==============================] - 0s 15ms/step - loss: 0.8602\n",
      "Epoch 5/30\n",
      "1/1 [==============================] - 0s 33ms/step - loss: 0.8176\n",
      "Epoch 6/30\n",
      "1/1 [==============================] - 0s 30ms/step - loss: 0.7775\n",
      "Epoch 7/30\n",
      "1/1 [==============================] - 0s 33ms/step - loss: 0.7399\n",
      "Epoch 8/30\n",
      "1/1 [==============================] - 0s 33ms/step - loss: 0.7050\n",
      "Epoch 9/30\n",
      "1/1 [==============================] - 0s 26ms/step - loss: 0.6729\n",
      "Epoch 10/30\n",
      "1/1 [==============================] - 0s 16ms/step - loss: 0.6439\n",
      "Epoch 11/30\n",
      "1/1 [==============================] - 0s 13ms/step - loss: 0.6184\n",
      "Epoch 12/30\n",
      "1/1 [==============================] - 0s 14ms/step - loss: 0.5968\n",
      "Epoch 13/30\n",
      "1/1 [==============================] - 0s 28ms/step - loss: 0.5796\n",
      "Epoch 14/30\n",
      "1/1 [==============================] - 0s 18ms/step - loss: 0.5672\n",
      "Epoch 15/30\n",
      "1/1 [==============================] - 0s 18ms/step - loss: 0.5596\n",
      "Epoch 16/30\n",
      "1/1 [==============================] - 0s 17ms/step - loss: 0.5563\n",
      "Epoch 17/30\n",
      "1/1 [==============================] - 0s 33ms/step - loss: 0.5558\n",
      "Epoch 18/30\n",
      "1/1 [==============================] - 0s 31ms/step - loss: 0.5566\n",
      "Epoch 19/30\n",
      "1/1 [==============================] - 0s 29ms/step - loss: 0.5568\n",
      "Epoch 20/30\n",
      "1/1 [==============================] - 0s 16ms/step - loss: 0.5555\n",
      "Epoch 21/30\n",
      "1/1 [==============================] - 0s 25ms/step - loss: 0.5522\n",
      "Epoch 22/30\n",
      "1/1 [==============================] - 0s 34ms/step - loss: 0.5472\n",
      "Epoch 23/30\n",
      "1/1 [==============================] - 0s 18ms/step - loss: 0.5410\n",
      "Epoch 24/30\n",
      "1/1 [==============================] - 0s 15ms/step - loss: 0.5342\n",
      "Epoch 25/30\n",
      "1/1 [==============================] - 0s 30ms/step - loss: 0.5274\n",
      "Epoch 26/30\n",
      "1/1 [==============================] - 0s 28ms/step - loss: 0.5210\n",
      "Epoch 27/30\n",
      "1/1 [==============================] - 0s 28ms/step - loss: 0.5153\n",
      "Epoch 28/30\n",
      "1/1 [==============================] - 0s 21ms/step - loss: 0.5104\n",
      "Epoch 29/30\n",
      "1/1 [==============================] - 0s 31ms/step - loss: 0.5063\n",
      "Epoch 30/30\n",
      "1/1 [==============================] - 0s 26ms/step - loss: 0.5029\n"
     ]
    }
   ],
   "source": [
    "np.random.seed(42)\n",
    "tf.random.set_seed(42)\n",
    "\n",
    "model.compile(loss=\"mse\", optimizer='Adam')\n",
    "\n",
    "history = model.fit(train_x, train_target, epochs=30)"
   ]
  },
  {
   "cell_type": "code",
   "execution_count": 65,
   "id": "ead4a268",
   "metadata": {},
   "outputs": [
    {
     "name": "stdout",
     "output_type": "stream",
     "text": [
      "WARNING:tensorflow:5 out of the last 5 calls to <function Model.make_predict_function.<locals>.predict_function at 0x000002569869E550> triggered tf.function retracing. Tracing is expensive and the excessive number of tracings could be due to (1) creating @tf.function repeatedly in a loop, (2) passing tensors with different shapes, (3) passing Python objects instead of tensors. For (1), please define your @tf.function outside of the loop. For (2), @tf.function has reduce_retracing=True option that can avoid unnecessary retracing. For (3), please refer to https://www.tensorflow.org/guide/function#controlling_retracing and https://www.tensorflow.org/api_docs/python/tf/function for  more details.\n",
      "1/1 [==============================] - 1s 1s/step\n"
     ]
    }
   ],
   "source": [
    "#Predict:\n",
    "y_pred = model.predict(test_x)"
   ]
  },
  {
   "cell_type": "code",
   "execution_count": 66,
   "id": "63132073",
   "metadata": {},
   "outputs": [],
   "source": [
    "#Remember, these are standardized values. \n",
    "\n",
    "comparison = pd.DataFrame()\n",
    "\n",
    "comparison['actual'] = scaler.inverse_transform([test_target]).flatten()\n",
    "comparison['predicted'] = scaler.inverse_transform(y_pred).flatten()"
   ]
  },
  {
   "cell_type": "code",
   "execution_count": 67,
   "id": "3b34288e",
   "metadata": {},
   "outputs": [
    {
     "data": {
      "text/plain": [
       "5.617538110081417"
      ]
     },
     "execution_count": 67,
     "metadata": {},
     "output_type": "execute_result"
    }
   ],
   "source": [
    "mean_squared_error(comparison['actual'], comparison['predicted'])"
   ]
  },
  {
   "cell_type": "code",
   "execution_count": 68,
   "id": "3d02a782",
   "metadata": {},
   "outputs": [
    {
     "data": {
      "image/png": "[encoded data removed]",
      "text/plain": [
       "<Figure size 640x480 with 1 Axes>"
      ]
     },
     "metadata": {},
     "output_type": "display_data"
    }
   ],
   "source": [
    "plt.plot(comparison['actual'], label = 'actual')\n",
    "plt.plot(comparison['predicted'], label = 'predicted')\n",
    "\n",
    "plt.legend()\n",
    "\n",
    "plt.show()"
   ]
  },
  {
   "cell_type": "markdown",
   "id": "1b4deab0",
   "metadata": {},
   "source": [
    "### GRU (with more layers)"
   ]
  },
  {
   "cell_type": "code",
   "execution_count": 69,
   "id": "7ac10574",
   "metadata": {},
   "outputs": [],
   "source": [
    "model = keras.models.Sequential([\n",
    "    keras.layers.GRU(32, activation='relu', return_sequences=True, input_shape=[9, 1]),\n",
    "    keras.layers.GRU(32, activation='relu', return_sequences=False),\n",
    "    keras.layers.Dense(1, activation=None)\n",
    "])"
   ]
  },
  {
   "cell_type": "code",
   "execution_count": 70,
   "id": "3ef61a12",
   "metadata": {},
   "outputs": [
    {
     "name": "stdout",
     "output_type": "stream",
     "text": [
      "Epoch 1/30\n",
      "1/1 [==============================] - 4s 4s/step - loss: 0.8377\n",
      "Epoch 2/30\n",
      "1/1 [==============================] - 0s 17ms/step - loss: 0.7735\n",
      "Epoch 3/30\n",
      "1/1 [==============================] - 0s 17ms/step - loss: 0.7314\n",
      "Epoch 4/30\n",
      "1/1 [==============================] - 0s 13ms/step - loss: 0.6981\n",
      "Epoch 5/30\n",
      "1/1 [==============================] - 0s 13ms/step - loss: 0.6689\n",
      "Epoch 6/30\n",
      "1/1 [==============================] - 0s 33ms/step - loss: 0.6427\n",
      "Epoch 7/30\n",
      "1/1 [==============================] - 0s 26ms/step - loss: 0.6186\n",
      "Epoch 8/30\n",
      "1/1 [==============================] - 0s 24ms/step - loss: 0.5953\n",
      "Epoch 9/30\n",
      "1/1 [==============================] - 0s 11ms/step - loss: 0.5737\n",
      "Epoch 10/30\n",
      "1/1 [==============================] - 0s 30ms/step - loss: 0.5520\n",
      "Epoch 11/30\n",
      "1/1 [==============================] - 0s 32ms/step - loss: 0.5312\n",
      "Epoch 12/30\n",
      "1/1 [==============================] - 0s 29ms/step - loss: 0.5113\n",
      "Epoch 13/30\n",
      "1/1 [==============================] - 0s 22ms/step - loss: 0.4923\n",
      "Epoch 14/30\n",
      "1/1 [==============================] - 0s 12ms/step - loss: 0.4736\n",
      "Epoch 15/30\n",
      "1/1 [==============================] - 0s 12ms/step - loss: 0.4555\n",
      "Epoch 16/30\n",
      "1/1 [==============================] - 0s 27ms/step - loss: 0.4384\n",
      "Epoch 17/30\n",
      "1/1 [==============================] - 0s 26ms/step - loss: 0.4226\n",
      "Epoch 18/30\n",
      "1/1 [==============================] - 0s 29ms/step - loss: 0.4076\n",
      "Epoch 19/30\n",
      "1/1 [==============================] - 0s 13ms/step - loss: 0.3928\n",
      "Epoch 20/30\n",
      "1/1 [==============================] - 0s 27ms/step - loss: 0.3795\n",
      "Epoch 21/30\n",
      "1/1 [==============================] - 0s 17ms/step - loss: 0.3675\n",
      "Epoch 22/30\n",
      "1/1 [==============================] - 0s 30ms/step - loss: 0.3563\n",
      "Epoch 23/30\n",
      "1/1 [==============================] - 0s 17ms/step - loss: 0.3471\n",
      "Epoch 24/30\n",
      "1/1 [==============================] - 0s 16ms/step - loss: 0.3371\n",
      "Epoch 25/30\n",
      "1/1 [==============================] - 0s 11ms/step - loss: 0.3290\n",
      "Epoch 26/30\n",
      "1/1 [==============================] - 0s 15ms/step - loss: 0.3214\n",
      "Epoch 27/30\n",
      "1/1 [==============================] - 0s 20ms/step - loss: 0.3141\n",
      "Epoch 28/30\n",
      "1/1 [==============================] - 0s 22ms/step - loss: 0.3061\n",
      "Epoch 29/30\n",
      "1/1 [==============================] - 0s 13ms/step - loss: 0.2988\n",
      "Epoch 30/30\n",
      "1/1 [==============================] - 0s 12ms/step - loss: 0.2913\n"
     ]
    }
   ],
   "source": [
    "np.random.seed(42)\n",
    "tf.random.set_seed(42)\n",
    "\n",
    "model.compile(loss=\"mse\", optimizer='RMSprop')\n",
    "\n",
    "history = model.fit(train_x, train_target, epochs=30)"
   ]
  },
  {
   "cell_type": "code",
   "execution_count": 71,
   "id": "4b78a61e",
   "metadata": {},
   "outputs": [
    {
     "name": "stdout",
     "output_type": "stream",
     "text": [
      "WARNING:tensorflow:6 out of the last 6 calls to <function Model.make_predict_function.<locals>.predict_function at 0x00000256A2F428B0> triggered tf.function retracing. Tracing is expensive and the excessive number of tracings could be due to (1) creating @tf.function repeatedly in a loop, (2) passing tensors with different shapes, (3) passing Python objects instead of tensors. For (1), please define your @tf.function outside of the loop. For (2), @tf.function has reduce_retracing=True option that can avoid unnecessary retracing. For (3), please refer to https://www.tensorflow.org/guide/function#controlling_retracing and https://www.tensorflow.org/api_docs/python/tf/function for  more details.\n",
      "1/1 [==============================] - 1s 567ms/step\n"
     ]
    }
   ],
   "source": [
    "#Predict:\n",
    "y_pred = model.predict(test_x)"
   ]
  },
  {
   "cell_type": "code",
   "execution_count": 72,
   "id": "006c585c",
   "metadata": {},
   "outputs": [],
   "source": [
    "#Remember, these are standardized values. \n",
    "\n",
    "comparison = pd.DataFrame()\n",
    "\n",
    "comparison['actual'] = scaler.inverse_transform([test_target]).flatten()\n",
    "comparison['predicted'] = scaler.inverse_transform(y_pred).flatten()"
   ]
  },
  {
   "cell_type": "code",
   "execution_count": 73,
   "id": "aaf01675",
   "metadata": {},
   "outputs": [
    {
     "data": {
      "text/plain": [
       "3.5948151219054125"
      ]
     },
     "execution_count": 73,
     "metadata": {},
     "output_type": "execute_result"
    }
   ],
   "source": [
    "mean_squared_error(comparison['actual'], comparison['predicted'])"
   ]
  },
  {
   "cell_type": "code",
   "execution_count": 74,
   "id": "46e2da43",
   "metadata": {},
   "outputs": [
    {
     "data": {
      "image/png": "[encoded data removed]",
      "text/plain": [
       "<Figure size 640x480 with 1 Axes>"
      ]
     },
     "metadata": {},
     "output_type": "display_data"
    }
   ],
   "source": [
    "plt.plot(comparison['actual'], label = 'actual')\n",
    "plt.plot(comparison['predicted'], label = 'predicted')\n",
    "\n",
    "plt.legend()\n",
    "\n",
    "plt.show()"
   ]
  },
  {
   "cell_type": "markdown",
   "id": "9219c18e",
   "metadata": {},
   "source": [
    "### Conv1D"
   ]
  },
  {
   "cell_type": "code",
   "execution_count": 75,
   "id": "319b003c",
   "metadata": {},
   "outputs": [],
   "source": [
    "model = keras.models.Sequential([\n",
    "    keras.layers.Conv1D(filters=20, kernel_size=3, strides=1, padding=\"valid\", input_shape=[9, 1]),\n",
    "    keras.layers.GRU(32, activation='relu', return_sequences=True),\n",
    "    keras.layers.GRU(32, activation='relu', return_sequences=False),\n",
    "    keras.layers.Dense(1, activation=None)\n",
    "])"
   ]
  },
  {
   "cell_type": "code",
   "execution_count": 76,
   "id": "e35cd462",
   "metadata": {},
   "outputs": [
    {
     "name": "stdout",
     "output_type": "stream",
     "text": [
      "Epoch 1/30\n",
      "1/1 [==============================] - 5s 5s/step - loss: 0.9051\n",
      "Epoch 2/30\n",
      "1/1 [==============================] - 0s 28ms/step - loss: 0.8789\n",
      "Epoch 3/30\n",
      "1/1 [==============================] - 0s 16ms/step - loss: 0.8532\n",
      "Epoch 4/30\n",
      "1/1 [==============================] - 0s 35ms/step - loss: 0.8282\n",
      "Epoch 5/30\n",
      "1/1 [==============================] - 0s 32ms/step - loss: 0.8056\n",
      "Epoch 6/30\n",
      "1/1 [==============================] - 0s 40ms/step - loss: 0.7853\n",
      "Epoch 7/30\n",
      "1/1 [==============================] - 0s 38ms/step - loss: 0.7668\n",
      "Epoch 8/30\n",
      "1/1 [==============================] - 0s 31ms/step - loss: 0.7465\n",
      "Epoch 9/30\n",
      "1/1 [==============================] - 0s 30ms/step - loss: 0.7257\n",
      "Epoch 10/30\n",
      "1/1 [==============================] - 0s 33ms/step - loss: 0.7045\n",
      "Epoch 11/30\n",
      "1/1 [==============================] - 0s 32ms/step - loss: 0.6825\n",
      "Epoch 12/30\n",
      "1/1 [==============================] - 0s 34ms/step - loss: 0.6596\n",
      "Epoch 13/30\n",
      "1/1 [==============================] - 0s 15ms/step - loss: 0.6367\n",
      "Epoch 14/30\n",
      "1/1 [==============================] - 0s 25ms/step - loss: 0.6142\n",
      "Epoch 15/30\n",
      "1/1 [==============================] - 0s 21ms/step - loss: 0.5914\n",
      "Epoch 16/30\n",
      "1/1 [==============================] - 0s 21ms/step - loss: 0.5684\n",
      "Epoch 17/30\n",
      "1/1 [==============================] - 0s 17ms/step - loss: 0.5464\n",
      "Epoch 18/30\n",
      "1/1 [==============================] - 0s 11ms/step - loss: 0.5252\n",
      "Epoch 19/30\n",
      "1/1 [==============================] - 0s 13ms/step - loss: 0.5044\n",
      "Epoch 20/30\n",
      "1/1 [==============================] - 0s 17ms/step - loss: 0.4840\n",
      "Epoch 21/30\n",
      "1/1 [==============================] - 0s 17ms/step - loss: 0.4646\n",
      "Epoch 22/30\n",
      "1/1 [==============================] - 0s 27ms/step - loss: 0.4463\n",
      "Epoch 23/30\n",
      "1/1 [==============================] - 0s 31ms/step - loss: 0.4293\n",
      "Epoch 24/30\n",
      "1/1 [==============================] - 0s 21ms/step - loss: 0.4138\n",
      "Epoch 25/30\n",
      "1/1 [==============================] - 0s 58ms/step - loss: 0.4009\n",
      "Epoch 26/30\n",
      "1/1 [==============================] - 0s 20ms/step - loss: 0.3900\n",
      "Epoch 27/30\n",
      "1/1 [==============================] - 0s 20ms/step - loss: 0.3812\n",
      "Epoch 28/30\n",
      "1/1 [==============================] - 0s 14ms/step - loss: 0.3743\n",
      "Epoch 29/30\n",
      "1/1 [==============================] - 0s 16ms/step - loss: 0.3688\n",
      "Epoch 30/30\n",
      "1/1 [==============================] - 0s 22ms/step - loss: 0.3641\n"
     ]
    }
   ],
   "source": [
    "np.random.seed(42)\n",
    "tf.random.set_seed(42)\n",
    "\n",
    "model.compile(loss=\"mse\", optimizer='Adam')\n",
    "\n",
    "history = model.fit(train_x, train_target, epochs=30)"
   ]
  },
  {
   "cell_type": "code",
   "execution_count": 77,
   "id": "84591418",
   "metadata": {},
   "outputs": [
    {
     "name": "stdout",
     "output_type": "stream",
     "text": [
      "1/1 [==============================] - 0s 444ms/step\n"
     ]
    }
   ],
   "source": [
    "#Predict:\n",
    "y_pred = model.predict(test_x)"
   ]
  },
  {
   "cell_type": "code",
   "execution_count": 78,
   "id": "0b748ac8",
   "metadata": {},
   "outputs": [],
   "source": [
    "#Remember, these are standardized values. \n",
    "\n",
    "comparison = pd.DataFrame()\n",
    "\n",
    "comparison['actual'] = scaler.inverse_transform([test_target]).flatten()\n",
    "comparison['predicted'] = scaler.inverse_transform(y_pred).flatten()"
   ]
  },
  {
   "cell_type": "code",
   "execution_count": 79,
   "id": "49f84c27",
   "metadata": {},
   "outputs": [
    {
     "data": {
      "text/plain": [
       "3.9410993980127387"
      ]
     },
     "execution_count": 79,
     "metadata": {},
     "output_type": "execute_result"
    }
   ],
   "source": [
    "mean_squared_error(comparison['actual'], comparison['predicted'])"
   ]
  },
  {
   "cell_type": "markdown",
   "id": "8b4db099",
   "metadata": {},
   "source": [
    "# By fitting the all the given models I.E A normal NN, simple RNN, simpleRNN with more layers, LSTM, LSTM with more layers, GRU with more layers, conv1D. Accoriding to my point view by the performance of all the given models, A normal NN has the less rmse values than the other models with 1.76. It appears that of all the models you tested, the normal NN model you trained has the lowest RMSE value. This shows that the normal NN model can match the data more accurately than the other models.It is important to remember that a model's performance might vary depending on a number of variables, including the size of the dataset, the difficulty of the problem, the accuracy of the data, and the hyperparameters used for the model.\n",
    "# At last A normal NN has the less rmse value with 1.76 followed by the simple RNN value with the 3.47"
   ]
  }
 ],
 "metadata": {
  "kernelspec": {
   "display_name": "Python 3 (ipykernel)",
   "language": "python",
   "name": "python3"
  },
  "language_info": {
   "codemirror_mode": {
    "name": "ipython",
    "version": 3
   },
   "file_extension": ".py",
   "mimetype": "text/x-python",
   "name": "python",
   "nbconvert_exporter": "python",
   "pygments_lexer": "ipython3",
   "version": "3.9.13"
  }
 },
 "nbformat": 4,
 "nbformat_minor": 5
}
