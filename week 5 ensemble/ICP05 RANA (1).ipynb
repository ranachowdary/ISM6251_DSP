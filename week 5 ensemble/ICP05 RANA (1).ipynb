{
 "cells": [
  {
   "cell_type": "code",
   "execution_count": 1,
   "id": "1584ab87",
   "metadata": {},
   "outputs": [],
   "source": [
    "# import packages\n",
    "import pandas as pd\n",
    "import numpy as np\n",
    "from sklearn.model_selection import train_test_split\n",
    "from sklearn.tree import DecisionTreeClassifier\n",
    "from sklearn.ensemble import RandomForestClassifier\n",
    "from sklearn.metrics import confusion_matrix, accuracy_score, precision_score, recall_score, f1_score\n",
    "from sklearn.model_selection import GridSearchCV, RandomizedSearchCV\n",
    "\n",
    "np.random.seed(1)"
   ]
  },
  {
   "cell_type": "markdown",
   "id": "8665f033",
   "metadata": {},
   "source": [
    "# Loading the data"
   ]
  },
  {
   "cell_type": "code",
   "execution_count": 2,
   "id": "3d8361df",
   "metadata": {},
   "outputs": [
    {
     "data": {
      "text/html": [
       "<div>\n",
       "<style scoped>\n",
       "    .dataframe tbody tr th:only-of-type {\n",
       "        vertical-align: middle;\n",
       "    }\n",
       "\n",
       "    .dataframe tbody tr th {\n",
       "        vertical-align: top;\n",
       "    }\n",
       "\n",
       "    .dataframe thead th {\n",
       "        text-align: right;\n",
       "    }\n",
       "</style>\n",
       "<table border=\"1\" class=\"dataframe\">\n",
       "  <thead>\n",
       "    <tr style=\"text-align: right;\">\n",
       "      <th></th>\n",
       "      <th>ID</th>\n",
       "      <th>Age</th>\n",
       "      <th>Experience</th>\n",
       "      <th>Income</th>\n",
       "      <th>ZIP Code</th>\n",
       "      <th>Family</th>\n",
       "      <th>CCAvg</th>\n",
       "      <th>Education</th>\n",
       "      <th>Mortgage</th>\n",
       "      <th>Personal Loan</th>\n",
       "      <th>Securities Account</th>\n",
       "      <th>CD Account</th>\n",
       "      <th>Online</th>\n",
       "      <th>CreditCard</th>\n",
       "    </tr>\n",
       "  </thead>\n",
       "  <tbody>\n",
       "    <tr>\n",
       "      <th>0</th>\n",
       "      <td>1</td>\n",
       "      <td>25</td>\n",
       "      <td>1</td>\n",
       "      <td>49</td>\n",
       "      <td>91107</td>\n",
       "      <td>4</td>\n",
       "      <td>1.6</td>\n",
       "      <td>1</td>\n",
       "      <td>0</td>\n",
       "      <td>0</td>\n",
       "      <td>1</td>\n",
       "      <td>0</td>\n",
       "      <td>0</td>\n",
       "      <td>0</td>\n",
       "    </tr>\n",
       "    <tr>\n",
       "      <th>1</th>\n",
       "      <td>2</td>\n",
       "      <td>45</td>\n",
       "      <td>19</td>\n",
       "      <td>34</td>\n",
       "      <td>90089</td>\n",
       "      <td>3</td>\n",
       "      <td>1.5</td>\n",
       "      <td>1</td>\n",
       "      <td>0</td>\n",
       "      <td>0</td>\n",
       "      <td>1</td>\n",
       "      <td>0</td>\n",
       "      <td>0</td>\n",
       "      <td>0</td>\n",
       "    </tr>\n",
       "    <tr>\n",
       "      <th>2</th>\n",
       "      <td>3</td>\n",
       "      <td>39</td>\n",
       "      <td>15</td>\n",
       "      <td>11</td>\n",
       "      <td>94720</td>\n",
       "      <td>1</td>\n",
       "      <td>1.0</td>\n",
       "      <td>1</td>\n",
       "      <td>0</td>\n",
       "      <td>0</td>\n",
       "      <td>0</td>\n",
       "      <td>0</td>\n",
       "      <td>0</td>\n",
       "      <td>0</td>\n",
       "    </tr>\n",
       "    <tr>\n",
       "      <th>3</th>\n",
       "      <td>4</td>\n",
       "      <td>35</td>\n",
       "      <td>9</td>\n",
       "      <td>100</td>\n",
       "      <td>94112</td>\n",
       "      <td>1</td>\n",
       "      <td>2.7</td>\n",
       "      <td>2</td>\n",
       "      <td>0</td>\n",
       "      <td>0</td>\n",
       "      <td>0</td>\n",
       "      <td>0</td>\n",
       "      <td>0</td>\n",
       "      <td>0</td>\n",
       "    </tr>\n",
       "    <tr>\n",
       "      <th>4</th>\n",
       "      <td>5</td>\n",
       "      <td>35</td>\n",
       "      <td>8</td>\n",
       "      <td>45</td>\n",
       "      <td>91330</td>\n",
       "      <td>4</td>\n",
       "      <td>1.0</td>\n",
       "      <td>2</td>\n",
       "      <td>0</td>\n",
       "      <td>0</td>\n",
       "      <td>0</td>\n",
       "      <td>0</td>\n",
       "      <td>0</td>\n",
       "      <td>1</td>\n",
       "    </tr>\n",
       "  </tbody>\n",
       "</table>\n",
       "</div>"
      ],
      "text/plain": [
       "   ID  Age  Experience  Income  ZIP Code  Family  CCAvg  Education  Mortgage  \\\n",
       "0   1   25           1      49     91107       4    1.6          1         0   \n",
       "1   2   45          19      34     90089       3    1.5          1         0   \n",
       "2   3   39          15      11     94720       1    1.0          1         0   \n",
       "3   4   35           9     100     94112       1    2.7          2         0   \n",
       "4   5   35           8      45     91330       4    1.0          2         0   \n",
       "\n",
       "   Personal Loan  Securities Account  CD Account  Online  CreditCard  \n",
       "0              0                   1           0       0           0  \n",
       "1              0                   1           0       0           0  \n",
       "2              0                   0           0       0           0  \n",
       "3              0                   0           0       0           0  \n",
       "4              0                   0           0       0           1  "
      ]
     },
     "execution_count": 2,
     "metadata": {},
     "output_type": "execute_result"
    }
   ],
   "source": [
    "df = pd.read_csv('UniversalBank.csv')\n",
    "df.head(5)"
   ]
  },
  {
   "cell_type": "markdown",
   "id": "207be502",
   "metadata": {},
   "source": [
    "# Exploring the dataset"
   ]
  },
  {
   "cell_type": "code",
   "execution_count": 3,
   "id": "722bd298",
   "metadata": {},
   "outputs": [
    {
     "name": "stdout",
     "output_type": "stream",
     "text": [
      "   ID  Age  Experience  Income  ZIP Code  Family  CCAvg  Education  Mortgage  \\\n",
      "0   1   25           1      49     91107       4    1.6          1         0   \n",
      "1   2   45          19      34     90089       3    1.5          1         0   \n",
      "2   3   39          15      11     94720       1    1.0          1         0   \n",
      "3   4   35           9     100     94112       1    2.7          2         0   \n",
      "4   5   35           8      45     91330       4    1.0          2         0   \n",
      "\n",
      "   Personal Loan  Securities Account  CD Account  Online  CreditCard  \n",
      "0              0                   1           0       0           0  \n",
      "1              0                   1           0       0           0  \n",
      "2              0                   0           0       0           0  \n",
      "3              0                   0           0       0           0  \n",
      "4              0                   0           0       0           1  \n",
      "Index(['ID', 'Age', 'Experience', 'Income', 'ZIP Code', 'Family', 'CCAvg',\n",
      "       'Education', 'Mortgage', 'Personal Loan', 'Securities Account',\n",
      "       'CD Account', 'Online', 'CreditCard'],\n",
      "      dtype='object')\n",
      "                ID          Age   Experience       Income      ZIP Code  \\\n",
      "count  5000.000000  5000.000000  5000.000000  5000.000000   5000.000000   \n",
      "mean   2500.500000    45.338400    20.104600    73.774200  93152.503000   \n",
      "std    1443.520003    11.463166    11.467954    46.033729   2121.852197   \n",
      "min       1.000000    23.000000    -3.000000     8.000000   9307.000000   \n",
      "25%    1250.750000    35.000000    10.000000    39.000000  91911.000000   \n",
      "50%    2500.500000    45.000000    20.000000    64.000000  93437.000000   \n",
      "75%    3750.250000    55.000000    30.000000    98.000000  94608.000000   \n",
      "max    5000.000000    67.000000    43.000000   224.000000  96651.000000   \n",
      "\n",
      "            Family        CCAvg    Education     Mortgage  Personal Loan  \\\n",
      "count  5000.000000  5000.000000  5000.000000  5000.000000    5000.000000   \n",
      "mean      2.396400     1.937938     1.881000    56.498800       0.096000   \n",
      "std       1.147663     1.747659     0.839869   101.713802       0.294621   \n",
      "min       1.000000     0.000000     1.000000     0.000000       0.000000   \n",
      "25%       1.000000     0.700000     1.000000     0.000000       0.000000   \n",
      "50%       2.000000     1.500000     2.000000     0.000000       0.000000   \n",
      "75%       3.000000     2.500000     3.000000   101.000000       0.000000   \n",
      "max       4.000000    10.000000     3.000000   635.000000       1.000000   \n",
      "\n",
      "       Securities Account  CD Account       Online   CreditCard  \n",
      "count         5000.000000  5000.00000  5000.000000  5000.000000  \n",
      "mean             0.104400     0.06040     0.596800     0.294000  \n",
      "std              0.305809     0.23825     0.490589     0.455637  \n",
      "min              0.000000     0.00000     0.000000     0.000000  \n",
      "25%              0.000000     0.00000     0.000000     0.000000  \n",
      "50%              0.000000     0.00000     1.000000     0.000000  \n",
      "75%              0.000000     0.00000     1.000000     1.000000  \n",
      "max              1.000000     1.00000     1.000000     1.000000  \n",
      "<class 'pandas.core.frame.DataFrame'>\n",
      "RangeIndex: 5000 entries, 0 to 4999\n",
      "Data columns (total 14 columns):\n",
      " #   Column              Non-Null Count  Dtype  \n",
      "---  ------              --------------  -----  \n",
      " 0   ID                  5000 non-null   int64  \n",
      " 1   Age                 5000 non-null   int64  \n",
      " 2   Experience          5000 non-null   int64  \n",
      " 3   Income              5000 non-null   int64  \n",
      " 4   ZIP Code            5000 non-null   int64  \n",
      " 5   Family              5000 non-null   int64  \n",
      " 6   CCAvg               5000 non-null   float64\n",
      " 7   Education           5000 non-null   int64  \n",
      " 8   Mortgage            5000 non-null   int64  \n",
      " 9   Personal Loan       5000 non-null   int64  \n",
      " 10  Securities Account  5000 non-null   int64  \n",
      " 11  CD Account          5000 non-null   int64  \n",
      " 12  Online              5000 non-null   int64  \n",
      " 13  CreditCard          5000 non-null   int64  \n",
      "dtypes: float64(1), int64(13)\n",
      "memory usage: 547.0 KB\n",
      "None\n"
     ]
    }
   ],
   "source": [
    "# Explore the dataset\n",
    "# read the first row of the dataset \n",
    "print(df.head())\n",
    "print(df.columns)\n",
    "print(df.describe())\n",
    "print(df.info())"
   ]
  },
  {
   "cell_type": "markdown",
   "id": "467e9ac5",
   "metadata": {},
   "source": [
    "# Clean/transform data (where necessary)"
   ]
  },
  {
   "cell_type": "code",
   "execution_count": 4,
   "id": "e547a03a",
   "metadata": {},
   "outputs": [
    {
     "data": {
      "text/plain": [
       "Index(['ID', 'Age', 'Experience', 'Income', 'ZIP Code', 'Family', 'CCAvg',\n",
       "       'Education', 'Mortgage', 'Personal Loan', 'Securities Account',\n",
       "       'CD Account', 'Online', 'CreditCard'],\n",
       "      dtype='object')"
      ]
     },
     "execution_count": 4,
     "metadata": {},
     "output_type": "execute_result"
    }
   ],
   "source": [
    "# based on findings from data exploration, we need to clean up colum names, as there are some leading whitespace characters\n",
    "df.columns = [s.strip() for s in df.columns] \n",
    "df.columns"
   ]
  },
  {
   "cell_type": "markdown",
   "id": "d38cc017",
   "metadata": {},
   "source": [
    "# Drop the columns we are not using as predictors"
   ]
  },
  {
   "cell_type": "code",
   "execution_count": 5,
   "id": "f9ba6c8f",
   "metadata": {},
   "outputs": [],
   "source": [
    "df = df.drop(columns=['ID', 'ZIP Code'])"
   ]
  },
  {
   "cell_type": "code",
   "execution_count": 6,
   "id": "b7aab518",
   "metadata": {},
   "outputs": [
    {
     "data": {
      "text/html": [
       "<div>\n",
       "<style scoped>\n",
       "    .dataframe tbody tr th:only-of-type {\n",
       "        vertical-align: middle;\n",
       "    }\n",
       "\n",
       "    .dataframe tbody tr th {\n",
       "        vertical-align: top;\n",
       "    }\n",
       "\n",
       "    .dataframe thead th {\n",
       "        text-align: right;\n",
       "    }\n",
       "</style>\n",
       "<table border=\"1\" class=\"dataframe\">\n",
       "  <thead>\n",
       "    <tr style=\"text-align: right;\">\n",
       "      <th></th>\n",
       "      <th>Age</th>\n",
       "      <th>Experience</th>\n",
       "      <th>Income</th>\n",
       "      <th>Family</th>\n",
       "      <th>CCAvg</th>\n",
       "      <th>Mortgage</th>\n",
       "      <th>Personal Loan</th>\n",
       "      <th>Securities Account</th>\n",
       "      <th>CD Account</th>\n",
       "      <th>Online</th>\n",
       "      <th>CreditCard</th>\n",
       "      <th>Edu_2</th>\n",
       "      <th>Edu_3</th>\n",
       "    </tr>\n",
       "  </thead>\n",
       "  <tbody>\n",
       "    <tr>\n",
       "      <th>0</th>\n",
       "      <td>25</td>\n",
       "      <td>1</td>\n",
       "      <td>49</td>\n",
       "      <td>4</td>\n",
       "      <td>1.6</td>\n",
       "      <td>0</td>\n",
       "      <td>0</td>\n",
       "      <td>1</td>\n",
       "      <td>0</td>\n",
       "      <td>0</td>\n",
       "      <td>0</td>\n",
       "      <td>0</td>\n",
       "      <td>0</td>\n",
       "    </tr>\n",
       "    <tr>\n",
       "      <th>1</th>\n",
       "      <td>45</td>\n",
       "      <td>19</td>\n",
       "      <td>34</td>\n",
       "      <td>3</td>\n",
       "      <td>1.5</td>\n",
       "      <td>0</td>\n",
       "      <td>0</td>\n",
       "      <td>1</td>\n",
       "      <td>0</td>\n",
       "      <td>0</td>\n",
       "      <td>0</td>\n",
       "      <td>0</td>\n",
       "      <td>0</td>\n",
       "    </tr>\n",
       "    <tr>\n",
       "      <th>2</th>\n",
       "      <td>39</td>\n",
       "      <td>15</td>\n",
       "      <td>11</td>\n",
       "      <td>1</td>\n",
       "      <td>1.0</td>\n",
       "      <td>0</td>\n",
       "      <td>0</td>\n",
       "      <td>0</td>\n",
       "      <td>0</td>\n",
       "      <td>0</td>\n",
       "      <td>0</td>\n",
       "      <td>0</td>\n",
       "      <td>0</td>\n",
       "    </tr>\n",
       "  </tbody>\n",
       "</table>\n",
       "</div>"
      ],
      "text/plain": [
       "   Age  Experience  Income  Family  CCAvg  Mortgage  Personal Loan  \\\n",
       "0   25           1      49       4    1.6         0              0   \n",
       "1   45          19      34       3    1.5         0              0   \n",
       "2   39          15      11       1    1.0         0              0   \n",
       "\n",
       "   Securities Account  CD Account  Online  CreditCard  Edu_2  Edu_3  \n",
       "0                   1           0       0           0      0      0  \n",
       "1                   1           0       0           0      0      0  \n",
       "2                   0           0       0           0      0      0  "
      ]
     },
     "execution_count": 6,
     "metadata": {},
     "output_type": "execute_result"
    }
   ],
   "source": [
    "# translation education categories into dummy vars\n",
    "df = df.join(pd.get_dummies(df['Education'], prefix='Edu', drop_first=True))\n",
    "df.drop('Education', axis=1, inplace = True)\n",
    "\n",
    "df.head(3)"
   ]
  },
  {
   "cell_type": "markdown",
   "id": "29ea8e6e",
   "metadata": {},
   "source": [
    "# Spliting data intro training and validation sets"
   ]
  },
  {
   "cell_type": "code",
   "execution_count": 7,
   "id": "07489fe1",
   "metadata": {},
   "outputs": [],
   "source": [
    "# construct datasets for analysis\n",
    "target = 'Personal Loan'\n",
    "predictors = list(df.columns)\n",
    "predictors.remove(target)\n",
    "X = df[predictors]\n",
    "y = df[target]"
   ]
  },
  {
   "cell_type": "code",
   "execution_count": 8,
   "id": "3d59d116",
   "metadata": {},
   "outputs": [],
   "source": [
    "# create the training set and the test set \n",
    "X_train, X_test, y_train, y_test = train_test_split(X,y, test_size=0.3, random_state=1)"
   ]
  },
  {
   "cell_type": "markdown",
   "id": "4fdf7f05",
   "metadata": {},
   "source": [
    "# Prediction with RandomForest"
   ]
  },
  {
   "cell_type": "code",
   "execution_count": 9,
   "id": "b51c90d7",
   "metadata": {},
   "outputs": [],
   "source": [
    "rforest = RandomForestClassifier()"
   ]
  },
  {
   "cell_type": "code",
   "execution_count": 10,
   "id": "8ac7443a",
   "metadata": {},
   "outputs": [],
   "source": [
    "_ = rforest.fit(X_train, y_train)"
   ]
  },
  {
   "cell_type": "code",
   "execution_count": 11,
   "id": "55a6e79e",
   "metadata": {},
   "outputs": [],
   "source": [
    "y_pred = rforest.predict(X_test)"
   ]
  },
  {
   "cell_type": "code",
   "execution_count": 12,
   "id": "bb50f021",
   "metadata": {},
   "outputs": [
    {
     "name": "stdout",
     "output_type": "stream",
     "text": [
      "      Model             Score       \n",
      "************************************\n",
      ">> Recall Score:  0.8456375838926175\n",
      "Accuracy Score:   0.9833333333333333\n",
      "Precision Score:  0.984375\n",
      "F1 Score:         0.9097472924187726\n"
     ]
    }
   ],
   "source": [
    "print(f\"{'Model':^18}{'Score':^18}\")\n",
    "print(\"************************************\")\n",
    "print(f\"{'>> Recall Score:':18}{recall_score(y_test, y_pred)}\")\n",
    "print(f\"{'Accuracy Score: ':18}{accuracy_score(y_test, y_pred)}\")\n",
    "print(f\"{'Precision Score: ':18}{precision_score(y_test, y_pred)}\")\n",
    "print(f\"{'F1 Score: ':18}{f1_score(y_test, y_pred)}\")"
   ]
  },
  {
   "cell_type": "code",
   "execution_count": 13,
   "id": "eac05c84",
   "metadata": {},
   "outputs": [],
   "source": [
    "rforest_recall = recall_score(y_test, y_pred)"
   ]
  },
  {
   "cell_type": "markdown",
   "id": "8f63d385",
   "metadata": {},
   "source": [
    "# Prediction with RandomForest using the random searchcv "
   ]
  },
  {
   "cell_type": "code",
   "execution_count": 28,
   "id": "58826e02",
   "metadata": {},
   "outputs": [
    {
     "name": "stdout",
     "output_type": "stream",
     "text": [
      "Fitting 5 folds for each of 500 candidates, totalling 2500 fits\n",
      "The best recall score is 0.9063319764812302\n",
      "... with parameters: {'min_samples_split': 24, 'min_samples_leaf': 1, 'min_impurity_decrease': 0.0006000000000000001, 'max_leaf_nodes': 19, 'max_depth': 31, 'criterion': 'entropy'}\n"
     ]
    },
    {
     "name": "stderr",
     "output_type": "stream",
     "text": [
      "C:\\Users\\shanm\\anaconda3\\lib\\site-packages\\sklearn\\model_selection\\_validation.py:372: FitFailedWarning: \n",
      "45 fits failed out of a total of 2500.\n",
      "The score on these train-test partitions for these parameters will be set to nan.\n",
      "If these failures are not expected, you can try to debug them by setting error_score='raise'.\n",
      "\n",
      "Below are more details about the failures:\n",
      "--------------------------------------------------------------------------------\n",
      "45 fits failed with the following error:\n",
      "Traceback (most recent call last):\n",
      "  File \"C:\\Users\\shanm\\anaconda3\\lib\\site-packages\\sklearn\\model_selection\\_validation.py\", line 680, in _fit_and_score\n",
      "    estimator.fit(X_train, y_train, **fit_params)\n",
      "  File \"C:\\Users\\shanm\\anaconda3\\lib\\site-packages\\sklearn\\tree\\_classes.py\", line 937, in fit\n",
      "    super().fit(\n",
      "  File \"C:\\Users\\shanm\\anaconda3\\lib\\site-packages\\sklearn\\tree\\_classes.py\", line 250, in fit\n",
      "    raise ValueError(\n",
      "ValueError: min_samples_split must be an integer greater than 1 or a float in (0.0, 1.0]; got the integer 1\n",
      "\n",
      "  warnings.warn(some_fits_failed_message, FitFailedWarning)\n",
      "C:\\Users\\shanm\\anaconda3\\lib\\site-packages\\sklearn\\model_selection\\_search.py:969: UserWarning: One or more of the test scores are non-finite: [0.79769335 0.87919493 0.82189055 0.59258254 0.85513342 0.80067843\n",
      " 0.84898236 0.87919493 0.86413388 0.80660335 0.79769335 0.84898236\n",
      " 0.59258254 0.79769335 0.85513342 0.64644957 0.80976934 0.72496608\n",
      " 0.87019448 0.87919493 0.82473994 0.79769335 0.86413388 0.70705563\n",
      " 0.87019448 0.84898236 0.87616463        nan 0.         0.80972411\n",
      " 0.84898236 0.52288557 0.81867933 0.70705563 0.85802804 0.79769335\n",
      " 0.79769335 0.79769335 0.85513342 0.85825418 0.79769335 0.79769335\n",
      " 0.79769335 0.87019448        nan 0.79769335 0.84898236 0.81569426\n",
      " 0.84613297 0.81867933 0.86725464 0.67666214 0.81872456 0.82473994\n",
      " 0.82795115 0.79769335 0.84898236 0.87019448 0.79769335 0.79769335\n",
      " 0.79769335 0.         0.87019448 0.70705563 0.86716418 0.85513342\n",
      " 0.79769335 0.81867933 0.59258254 0.49561284 0.87019448 0.79755767\n",
      " 0.79769335 0.72496608 0.79769335 0.80361827 0.84898236 0.80963365\n",
      " 0.84898236 0.79769335 0.59258254        nan 0.62288557 0.81569426\n",
      " 0.79769335 0.87919493        nan 0.83984622 0.87019448 0.79769335\n",
      " 0.87919493 0.76739032 0.89127092 0.79769335 0.83075531 0.79755767\n",
      " 0.8339213  0.84898236 0.80967888 0.88222524 0.72496608 0.87019448\n",
      " 0.84898236 0.64644957 0.59258254 0.67666214 0.87019448 0.84898236\n",
      " 0.87019448 0.59258254 0.87019448 0.54993216 0.         0.85513342\n",
      " 0.83098146 0.79769335 0.84898236 0.87910448 0.81270918 0.84898236\n",
      " 0.8339213  0.84898236 0.87019448 0.76739032 0.72496608 0.49561284\n",
      " 0.80361827 0.85513342 0.79466305 0.79769335 0.86725464 0.87019448\n",
      " 0.86413388 0.85504297 0.8339213  0.8339213  0.59258254 0.80058797\n",
      " 0.         0.59258254 0.84898236 0.85513342 0.79769335 0.84287653\n",
      " 0.87616463 0.88516508 0.79769335 0.81886024 0.79769335 0.79769335\n",
      " 0.83098146 0.85513342 0.72496608 0.59258254 0.54993216 0.79769335\n",
      " 0.70705563 0.87317956 0.84898236 0.         0.80361827 0.81867933\n",
      " 0.79769335 0.82166441 0.80963365 0.52288557 0.8611488  0.85196744\n",
      " 0.87919493 0.79769335 0.85513342 0.84898236 0.79466305 0.80664858\n",
      " 0.85504297 0.79769335 0.87620986 0.85513342 0.59258254 0.86413388\n",
      " 0.87620986 0.82795115 0.84898236 0.87919493 0.67657169 0.87919493\n",
      " 0.79769335 0.90633198 0.87914971 0.89724107 0.79769335 0.87313433\n",
      " 0.79769335 0.79769335 0.8339213  0.79769335 0.79769335 0.84898236\n",
      " 0.79769335 0.87019448 0.81569426        nan 0.72496608 0.79769335\n",
      " 0.85825418 0.79769335 0.87616463 0.89127092 0.59258254 0.67666214\n",
      " 0.62288557 0.79466305 0.84898236 0.79769335 0.89421076 0.87919493\n",
      " 0.81569426 0.87919493 0.81867933 0.59258254 0.79769335 0.80660335\n",
      " 0.67666214        nan 0.87019448 0.79769335 0.79769335 0.81270918\n",
      " 0.79769335 0.79769335 0.79769335 0.79769335 0.84898236 0.88525554\n",
      " 0.79769335 0.87019448 0.88222524 0.8339213  0.         0.84898236\n",
      " 0.79769335 0.83098146 0.84898236 0.84898236 0.79769335 0.79769335\n",
      "        nan 0.79769335 0.84613297 0.83075531 0.84898236 0.87919493\n",
      " 0.79769335 0.79769335 0.79769335 0.         0.79769335 0.87019448\n",
      " 0.84613297 0.85513342 0.66227951 0.85504297 0.81270918 0.67354138\n",
      " 0.85192221 0.82781547 0.81569426 0.81270918 0.64644957 0.8339213\n",
      " 0.85504297 0.79769335 0.80361827 0.79769335 0.80967888 0.79769335\n",
      " 0.79769335 0.79769335 0.79769335 0.87616463 0.85513342 0.66227951\n",
      " 0.81569426 0.59258254 0.79769335 0.79769335 0.79769335 0.87919493\n",
      " 0.8730891  0.79769335 0.79769335 0.85504297 0.79769335 0.84613297\n",
      " 0.84907282 0.72496608 0.54993216 0.79769335 0.87919493 0.84898236\n",
      " 0.79769335 0.85499774 0.79769335 0.85201266 0.84898236 0.66227951\n",
      " 0.46227951 0.82781547 0.79769335 0.67666214 0.86101312 0.82473994\n",
      " 0.84613297 0.46227951 0.80967888 0.66227951 0.79466305 0.79769335\n",
      " 0.84898236 0.82473994 0.79769335 0.72496608 0.84898236 0.84898236\n",
      " 0.89118046 0.79769335 0.8339213  0.88222524 0.84898236 0.84898236\n",
      " 0.84898236 0.79769335 0.59258254 0.85513342 0.81266395 0.84898236\n",
      " 0.87620986 0.79466305 0.86716418 0.84898236 0.79769335 0.8339213\n",
      " 0.79769335 0.88824062 0.87019448 0.85513342 0.8339213  0.54993216\n",
      " 0.67666214 0.79769335 0.79769335 0.88525554 0.87919493 0.87919493\n",
      " 0.88222524 0.84898236 0.72496608 0.81867933 0.79769335 0.79769335\n",
      " 0.79769335 0.83690638 0.83075531 0.79769335 0.72496608 0.84898236\n",
      " 0.79466305 0.89416554 0.85201266 0.84898236 0.         0.81270918\n",
      " 0.80664858 0.84898236 0.79769335 0.80972411 0.59258254 0.79769335\n",
      " 0.87919493 0.52288557 0.8339213  0.84898236 0.81886024 0.81569426\n",
      " 0.84898236 0.88824062 0.80976934 0.83075531 0.84613297 0.85513342\n",
      " 0.66227951 0.66227951 0.87019448 0.87019448 0.59258254 0.79769335\n",
      " 0.86413388 0.86725464 0.70705563 0.79769335 0.79769335 0.80967888\n",
      " 0.82473994 0.79769335 0.49561284 0.84590683 0.70705563 0.79769335\n",
      " 0.8339213  0.80972411        nan 0.88525554 0.81569426 0.79769335\n",
      " 0.83098146 0.79769335 0.72496608        nan 0.8339213  0.84898236\n",
      " 0.87620986 0.62288557 0.84907282 0.84898236 0.80967888 0.79769335\n",
      " 0.87019448 0.79769335 0.85504297 0.84898236 0.87919493 0.88222524\n",
      " 0.79466305 0.66227951 0.46227951 0.84898236 0.52288557 0.84898236\n",
      " 0.86716418 0.81569426 0.79769335 0.84898236 0.80976934 0.67657169\n",
      " 0.84898236 0.84898236 0.79769335 0.78860244 0.84893713 0.64644957\n",
      " 0.79461782 0.84898236 0.66227951 0.59258254 0.83080054 0.83075531\n",
      " 0.80361827 0.54993216 0.79466305 0.79769335 0.         0.8278607\n",
      " 0.87919493 0.89122569 0.79769335 0.52288557 0.79163275 0.87313433\n",
      " 0.80967888 0.46227951 0.49561284 0.54993216 0.89421076 0.87620986\n",
      " 0.87919493 0.72496608 0.62288557 0.85504297 0.87313433 0.84613297\n",
      " 0.85192221 0.88525554 0.88222524 0.83080054 0.79466305 0.79769335\n",
      " 0.79769335 0.79769335 0.86716418 0.84898236 0.84613297 0.79466305\n",
      " 0.59258254 0.84898236 0.72496608 0.59258254 0.79769335 0.79769335\n",
      " 0.81569426 0.82473994]\n",
      "  warnings.warn(\n",
      "C:\\Users\\shanm\\anaconda3\\lib\\site-packages\\sklearn\\model_selection\\_search.py:969: UserWarning: One or more of the train scores are non-finite: [0.8179474  0.87990566 0.82473985 0.62675815 0.85646369 0.80661521\n",
      " 0.85196112 0.88066038 0.85799314 0.81647227 0.8179474  0.85196112\n",
      " 0.62675815 0.8179474  0.85646369 0.65103488 0.81491138 0.75983419\n",
      " 0.87310463 0.87990566 0.84592338 0.8179474  0.85799314 0.72801601\n",
      " 0.87158948 0.85196112 0.91010292        nan 0.         0.82323899\n",
      " 0.85196112 0.55430532 0.83460263 0.72801601 0.87460549 0.8179474\n",
      " 0.80889079 0.80889079 0.85646369 0.85342481 0.8179474  0.8179474\n",
      " 0.8179474  0.87310463        nan 0.8179474  0.85196112 0.83383076\n",
      " 0.84890795 0.83460263 0.86778445 0.67899657 0.83082333 0.84592338\n",
      " 0.83379646 0.8179474  0.85196112 0.8663036  0.8179474  0.8179474\n",
      " 0.8179474  0.         0.87688107 0.72801601 0.8625243  0.85646369\n",
      " 0.8179474  0.83460263 0.62675815 0.51430532 0.87612636 0.81193539\n",
      " 0.8179474  0.75983419 0.8179474  0.81192396 0.85196112 0.81722127\n",
      " 0.85196112 0.8179474  0.62675815        nan 0.65996569 0.83383076\n",
      " 0.8179474  0.88066038        nan 0.8527187  0.8663036  0.8179474\n",
      " 0.88066038 0.78926815 0.89349628 0.8179474  0.83913379 0.82778159\n",
      " 0.8436335  0.85196112 0.81569754 0.8859434  0.75983419 0.87688107\n",
      " 0.85196112 0.66009148 0.62675815 0.67899657 0.87158948 0.85196112\n",
      " 0.8708319  0.62675815 0.87309891 0.55135792 0.         0.85646369\n",
      " 0.84059748 0.8179474  0.85196112 0.88217553 0.82852487 0.85196112\n",
      " 0.8436335  0.85196112 0.8663036  0.78926815 0.75983419 0.51430532\n",
      " 0.81192396 0.85646369 0.80738136 0.8179474  0.86853917 0.87612636\n",
      " 0.85799314 0.86931961 0.8436335  0.8436335  0.62675815 0.8194797\n",
      " 0.         0.62675815 0.85196112 0.85646369 0.8179474  0.86328473\n",
      " 0.87839623 0.91390223 0.8179474  0.82246998 0.8179474  0.8179474\n",
      " 0.82849628 0.85646369 0.75983419 0.62675815 0.55135792 0.8179474\n",
      " 0.72801601 0.87310463 0.85196112 0.         0.81192396 0.83460263\n",
      " 0.8179474  0.84441681 0.82628359 0.55430532 0.86325901 0.86932247\n",
      " 0.88066038 0.8179474  0.85646369 0.85196112 0.81643796 0.81116638\n",
      " 0.86931961 0.8179474  0.87914237 0.85646369 0.62675815 0.85799314\n",
      " 0.87687822 0.82926529 0.85196112 0.88066038 0.68352201 0.87990566\n",
      " 0.8179474  0.90483419 0.92144368 0.90106061 0.8179474  0.89276444\n",
      " 0.8179474  0.8179474  0.8436335  0.8179474  0.8179474  0.85196112\n",
      " 0.8179474  0.87309891 0.83383076        nan 0.75983419 0.8179474\n",
      " 0.85871069 0.8179474  0.89953974 0.89576329 0.62675815 0.67899657\n",
      " 0.65996569 0.80738136 0.85196112 0.8179474  0.89878788 0.87613208\n",
      " 0.83383076 0.88066038 0.82856489 0.62675815 0.8179474  0.81647227\n",
      " 0.67899657        nan 0.87688107 0.8179474  0.80889079 0.82852487\n",
      " 0.8179474  0.8179474  0.8179474  0.8179474  0.85196112 0.88745283\n",
      " 0.8179474  0.8708319  0.8859434  0.8436335  0.         0.85196112\n",
      " 0.8179474  0.83606632 0.85196112 0.85196112 0.8179474  0.8179474\n",
      "        nan 0.8179474  0.85268439 0.83913379 0.85196112 0.87990566\n",
      " 0.8179474  0.8179474  0.8179474  0.         0.8179474  0.87612636\n",
      " 0.85268439 0.85646369 0.69468268 0.86931961 0.82852487 0.67672956\n",
      " 0.88369068 0.83231847 0.83383076 0.82852487 0.66009148 0.8436335\n",
      " 0.86931961 0.8179474  0.81192396 0.8179474  0.81947684 0.8179474\n",
      " 0.8179474  0.8179474  0.8179474  0.87839623 0.85646369 0.69468268\n",
      " 0.83383076 0.62675815 0.8179474  0.8179474  0.8179474  0.88066038\n",
      " 0.87689537 0.8179474  0.8179474  0.86931961 0.8179474  0.85192967\n",
      " 0.84740137 0.75983419 0.55135792 0.8179474  0.88066038 0.85196112\n",
      " 0.8179474  0.86856775 0.8179474  0.84893368 0.85196112 0.69468268\n",
      " 0.4735506  0.83231847 0.8179474  0.67899657 0.89199257 0.84592338\n",
      " 0.84890795 0.4735506  0.81569754 0.69468268 0.81643796 0.8179474\n",
      " 0.85196112 0.84592338 0.80889079 0.75983419 0.85196112 0.85196112\n",
      " 0.89350486 0.8179474  0.8436335  0.8859434  0.85196112 0.85196112\n",
      " 0.85196112 0.8179474  0.62675815 0.85646369 0.82703831 0.85196112\n",
      " 0.87914237 0.81643796 0.86403373 0.85196112 0.8179474  0.8436335\n",
      " 0.8179474  0.89425386 0.87158948 0.85646369 0.8436335  0.55135792\n",
      " 0.67899657 0.8179474  0.8179474  0.88745283 0.90482276 0.88066038\n",
      " 0.9138765  0.85196112 0.75983419 0.82856489 0.8179474  0.8179474\n",
      " 0.8179474  0.84212979 0.86403945 0.8179474  0.75983419 0.85196112\n",
      " 0.81643796 0.91690966 0.84893368 0.85196112 0.         0.82852487\n",
      " 0.81116638 0.85196112 0.8179474  0.82323899 0.62675815 0.8179474\n",
      " 0.88066038 0.55430532 0.8436335  0.85196112 0.82095483 0.83383076\n",
      " 0.85196112 0.89425386 0.81491138 0.83913379 0.84890795 0.85646369\n",
      " 0.69468268 0.69468268 0.87688107 0.87612636 0.62675815 0.8179474\n",
      " 0.85799314 0.86853917 0.72801601 0.8179474  0.8179474  0.82550886\n",
      " 0.84592338 0.8179474  0.51430532 0.86403945 0.72801601 0.8179474\n",
      " 0.8436335  0.82323899        nan 0.88745283 0.83383076 0.8179474\n",
      " 0.82849628 0.8179474  0.75983419        nan 0.8436335  0.85196112\n",
      " 0.88140652 0.65996569 0.84740137 0.85196112 0.81569754 0.8179474\n",
      " 0.8708319  0.80889079 0.86931961 0.85196112 0.88066038 0.91312178\n",
      " 0.80738136 0.69468268 0.4735506  0.85196112 0.55430532 0.85196112\n",
      " 0.86403373 0.83383076 0.8179474  0.85196112 0.81491138 0.68352201\n",
      " 0.85196112 0.85196112 0.8179474  0.80587193 0.87385077 0.66009148\n",
      " 0.79152659 0.85196112 0.69468268 0.62675815 0.84743282 0.83913379\n",
      " 0.81192396 0.55135792 0.81643796 0.8179474  0.         0.83381647\n",
      " 0.88066038 0.88973128 0.8179474  0.55430532 0.81568325 0.88972842\n",
      " 0.8194797  0.4735506  0.51430532 0.55135792 0.89652373 0.87687822\n",
      " 0.87990566 0.75983419 0.65996569 0.86931961 0.893502   0.84663522\n",
      " 0.88369068 0.88745283 0.91463122 0.84743282 0.81643796 0.80889079\n",
      " 0.8179474  0.8179474  0.86403373 0.85196112 0.84890795 0.80738136\n",
      " 0.62675815 0.85196112 0.75983419 0.62675815 0.8179474  0.8179474\n",
      " 0.83383076 0.83158376]\n",
      "  warnings.warn(\n"
     ]
    }
   ],
   "source": [
    "from sklearn.metrics import confusion_matrix\n",
    "score_measure = \"recall\"\n",
    "kfolds = 5\n",
    "\n",
    "param_grid = {\n",
    "    'min_samples_split': np.arange(1,55),  \n",
    "    'min_samples_leaf': np.arange(1,55),\n",
    "    'min_impurity_decrease': np.arange(0.0001, 0.01, 0.0005),\n",
    "    'max_leaf_nodes': np.arange(5, 200), \n",
    "    'max_depth': np.arange(1,50), \n",
    "    'criterion': ['entropy', 'gini'],\n",
    "}\n",
    "\n",
    "rforest = RandomForestClassifier()\n",
    "rand_search = RandomizedSearchCV(estimator = dtree, param_distributions=param_grid, cv=kfolds, n_iter=500,\n",
    "                           scoring=score_measure, verbose=1, n_jobs=-1,  # n_jobs=-1 will utilize all available CPUs \n",
    "                           return_train_score=True)\n",
    "\n",
    "_ = rand_search.fit(X_train, y_train)\n",
    "\n",
    "print(f\"The best {score_measure} score is {rand_search.best_score_}\")\n",
    "print(f\"... with parameters: {rand_search.best_params_}\")\n",
    "\n",
    "bestRecallTree = rand_search.best_estimator_"
   ]
  },
  {
   "cell_type": "code",
   "execution_count": 29,
   "id": "7f9246f3",
   "metadata": {},
   "outputs": [
    {
     "name": "stdout",
     "output_type": "stream",
     "text": [
      "Accuracy=0.9793333 Precision=0.9836066 Recall=0.8053691 F1=0.8856089\n"
     ]
    }
   ],
   "source": [
    "from sklearn.metrics import confusion_matrix\n",
    "c_matrix = confusion_matrix(y_test, rand_search.predict(X_test))\n",
    "TP = c_matrix[1][1]\n",
    "TN = c_matrix[0][0]\n",
    "FP = c_matrix[0][1]\n",
    "FN = c_matrix[1][0]\n",
    "print(f\"Accuracy={(TP+TN)/(TP+TN+FP+FN):.7f} Precision={TP/(TP+FP):.7f} Recall={TP/(TP+FN):.7f} F1={2*TP/(2*TP+FP+FN):.7f}\")"
   ]
  },
  {
   "cell_type": "markdown",
   "id": "10534f11",
   "metadata": {},
   "source": [
    "# Prediction with Decision Tree"
   ]
  },
  {
   "cell_type": "code",
   "execution_count": 14,
   "id": "3144ce29",
   "metadata": {},
   "outputs": [],
   "source": [
    "dtree=DecisionTreeClassifier()"
   ]
  },
  {
   "cell_type": "code",
   "execution_count": 15,
   "id": "e7bf4391",
   "metadata": {},
   "outputs": [],
   "source": [
    "_ = dtree.fit(X_train, y_train)"
   ]
  },
  {
   "cell_type": "code",
   "execution_count": 16,
   "id": "ce9e82c3",
   "metadata": {},
   "outputs": [],
   "source": [
    "y_pred = dtree.predict(X_test)"
   ]
  },
  {
   "cell_type": "code",
   "execution_count": 17,
   "id": "aa11416d",
   "metadata": {},
   "outputs": [
    {
     "name": "stdout",
     "output_type": "stream",
     "text": [
      "      Model             Score       \n",
      "************************************\n",
      ">> Recall Score:  0.8993288590604027\n",
      "Accuracy Score:   0.986\n",
      "Precision Score:  0.9571428571428572\n",
      "F1 Score:         0.9273356401384083\n"
     ]
    }
   ],
   "source": [
    "print(f\"{'Model':^18}{'Score':^18}\")\n",
    "print(\"************************************\")\n",
    "print(f\"{'>> Recall Score:':18}{recall_score(y_test, y_pred)}\")\n",
    "print(f\"{'Accuracy Score: ':18}{accuracy_score(y_test, y_pred)}\")\n",
    "print(f\"{'Precision Score: ':18}{precision_score(y_test, y_pred)}\")\n",
    "print(f\"{'F1 Score: ':18}{f1_score(y_test, y_pred)}\")"
   ]
  },
  {
   "cell_type": "code",
   "execution_count": 18,
   "id": "4c9fee85",
   "metadata": {},
   "outputs": [],
   "source": [
    "dtree_recall = recall_score(y_test, y_pred)"
   ]
  },
  {
   "cell_type": "markdown",
   "id": "586002f8",
   "metadata": {},
   "source": [
    "# Prediction with ADABoost"
   ]
  },
  {
   "cell_type": "code",
   "execution_count": 19,
   "id": "4ec6e13e",
   "metadata": {},
   "outputs": [],
   "source": [
    "from sklearn.ensemble import AdaBoostClassifier"
   ]
  },
  {
   "cell_type": "code",
   "execution_count": 20,
   "id": "d435d9fb",
   "metadata": {},
   "outputs": [],
   "source": [
    "aboost = AdaBoostClassifier()\n",
    "_ = aboost.fit(X_train, y_train)\n",
    "y_pred = aboost.predict(X_test)"
   ]
  },
  {
   "cell_type": "code",
   "execution_count": 21,
   "id": "f4422d6f",
   "metadata": {},
   "outputs": [
    {
     "name": "stdout",
     "output_type": "stream",
     "text": [
      "      Model             Score       \n",
      "************************************\n",
      ">> Recall Score:  0.7248322147651006\n",
      "Accuracy Score:   0.9626666666666667\n",
      "Precision Score:  0.8780487804878049\n",
      "F1 Score:         0.7941176470588235\n"
     ]
    }
   ],
   "source": [
    "print(f\"{'Model':^18}{'Score':^18}\")\n",
    "print(\"************************************\")\n",
    "print(f\"{'>> Recall Score:':18}{recall_score(y_test, y_pred)}\")\n",
    "print(f\"{'Accuracy Score: ':18}{accuracy_score(y_test, y_pred)}\")\n",
    "print(f\"{'Precision Score: ':18}{precision_score(y_test, y_pred)}\")\n",
    "print(f\"{'F1 Score: ':18}{f1_score(y_test, y_pred)}\")"
   ]
  },
  {
   "cell_type": "code",
   "execution_count": 22,
   "id": "38db9355",
   "metadata": {},
   "outputs": [],
   "source": [
    "aboost_recall = recall_score(y_test, y_pred)"
   ]
  },
  {
   "cell_type": "markdown",
   "id": "a23fad6f",
   "metadata": {},
   "source": [
    "# Prediction with GradientBoostingClassifier"
   ]
  },
  {
   "cell_type": "code",
   "execution_count": 23,
   "id": "cc557d43",
   "metadata": {},
   "outputs": [],
   "source": [
    "from sklearn.ensemble import GradientBoostingClassifier"
   ]
  },
  {
   "cell_type": "code",
   "execution_count": 24,
   "id": "5fece8b4",
   "metadata": {},
   "outputs": [],
   "source": [
    "gboost = GradientBoostingClassifier()\n",
    "_ = gboost.fit(X_train, y_train)\n",
    "y_pred = gboost.predict(X_test)"
   ]
  },
  {
   "cell_type": "code",
   "execution_count": 25,
   "id": "7edcc471",
   "metadata": {},
   "outputs": [
    {
     "name": "stdout",
     "output_type": "stream",
     "text": [
      "      Model             Score       \n",
      "************************************\n",
      ">> Recall Score:  0.8657718120805369\n",
      "Accuracy Score:   0.9826666666666667\n",
      "Precision Score:  0.9555555555555556\n",
      "F1 Score:         0.9084507042253522\n"
     ]
    }
   ],
   "source": [
    "print(f\"{'Model':^18}{'Score':^18}\")\n",
    "print(\"************************************\")\n",
    "print(f\"{'>> Recall Score:':18}{recall_score(y_test, y_pred)}\")\n",
    "print(f\"{'Accuracy Score: ':18}{accuracy_score(y_test, y_pred)}\")\n",
    "print(f\"{'Precision Score: ':18}{precision_score(y_test, y_pred)}\")\n",
    "print(f\"{'F1 Score: ':18}{f1_score(y_test, y_pred)}\")"
   ]
  },
  {
   "cell_type": "code",
   "execution_count": 26,
   "id": "aa7628cc",
   "metadata": {},
   "outputs": [],
   "source": [
    "gboost_recall = recall_score(y_test, y_pred)"
   ]
  },
  {
   "cell_type": "markdown",
   "id": "f1eab86f",
   "metadata": {},
   "source": [
    "# Summarizing the results¶"
   ]
  },
  {
   "cell_type": "code",
   "execution_count": 30,
   "id": "a6a0df94",
   "metadata": {},
   "outputs": [
    {
     "name": "stdout",
     "output_type": "stream",
     "text": [
      "Recall scores...\n",
      "Decision Tree:    0.8993288590604027\n",
      "Random Forest:    0.8456375838926175\n",
      "Ada Boosted Tree: 0.7248322147651006\n",
      "Gradient Tree:    0.8657718120805369\n",
      "The best recall score using randomsearchcv on random forest 0.9063319764812302\n"
     ]
    }
   ],
   "source": [
    "print(\"Recall scores...\")\n",
    "print(f\"{'Decision Tree:':18}{dtree_recall}\")\n",
    "print(f\"{'Random Forest:':18}{rforest_recall}\")\n",
    "print(f\"{'Ada Boosted Tree:':18}{aboost_recall}\")\n",
    "print(f\"{'Gradient Tree:':18}{gboost_recall}\")\n",
    "print(f\"The best {score_measure} score using randomsearchcv on random forest {rand_search.best_score_}\")"
   ]
  },
  {
   "cell_type": "markdown",
   "id": "242b991d",
   "metadata": {},
   "source": [
    "# By fitting the decision tree, random forest, ada boosted tree, gradient tree and random search cv on random forest, given in the question. according to my point of view random serach cv on random forest gives the best fit recall score= 0.9063319"
   ]
  }
 ],
 "metadata": {
  "kernelspec": {
   "display_name": "Python 3 (ipykernel)",
   "language": "python",
   "name": "python3"
  },
  "language_info": {
   "codemirror_mode": {
    "name": "ipython",
    "version": 3
   },
   "file_extension": ".py",
   "mimetype": "text/x-python",
   "name": "python",
   "nbconvert_exporter": "python",
   "pygments_lexer": "ipython3",
   "version": "3.9.13"
  }
 },
 "nbformat": 4,
 "nbformat_minor": 5
}
