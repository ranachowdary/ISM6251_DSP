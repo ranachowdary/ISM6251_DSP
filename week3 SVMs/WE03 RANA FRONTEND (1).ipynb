{
 "cells": [
  {
   "cell_type": "code",
   "execution_count": 1,
   "id": "8a1f8d3d",
   "metadata": {},
   "outputs": [
    {
     "name": "stdout",
     "output_type": "stream",
     "text": [
      "\n",
      "*****************************************************\n",
      "*  Prediction Model on Ownership *\n",
      "*****************************************************\n",
      "\n",
      "Enter the income:60\n",
      "Enter the Lotsize: 18.4\n",
      "\n",
      "Prediction Model on Ownership 0.4934, therefore it's indicated that we should Owner.\n",
      "\n"
     ]
    }
   ],
   "source": [
    "import pandas as pd\n",
    "import numpy as np\n",
    "import matplotlib.pyplot as plt\n",
    "from sklearn.metrics import confusion_matrix\n",
    "\n",
    "import pickle\n",
    "\n",
    "# Uncomment the following snippet of code to debug problems with finding the .pkl file path\n",
    "# This snippet of code will exit the program and print the current working directory.\n",
    "#import os\n",
    "#exit(os.getcwd())\n",
    "\n",
    "ownership_model = pickle.load(open('we03 rana.csv', \"rb\"))\n",
    "\n",
    "print(\"\\n*****************************************************\")\n",
    "print(\"*  Prediction Model on Ownership *\")\n",
    "print(\"*****************************************************\\n\")\n",
    "Income = float(input(\"Enter the income:\"))\n",
    "Lot_Size= float(input(\"Enter the Lotsize: \"))\n",
    "df = pd.DataFrame({'Income': [Income], 'Lot_Size': [Lot_Size]})\n",
    "result = ownership_model.predict(df)\n",
    "probability = ownership_model.predict_proba(df)\n",
    "Ownership = ('Owner', 'NonOwner')\n",
    "print(f\"\\nPrediction Model on Ownership {probability[0][1]:.4f}, therefore it's indicated that we should {Ownership[result[0]]}.\\n\")\n"
   ]
  }
 ],
 "metadata": {
  "kernelspec": {
   "display_name": "Python 3 (ipykernel)",
   "language": "python",
   "name": "python3"
  },
  "language_info": {
   "codemirror_mode": {
    "name": "ipython",
    "version": 3
   },
   "file_extension": ".py",
   "mimetype": "text/x-python",
   "name": "python",
   "nbconvert_exporter": "python",
   "pygments_lexer": "ipython3",
   "version": "3.9.13"
  }
 },
 "nbformat": 4,
 "nbformat_minor": 5
}
